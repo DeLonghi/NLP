{
  "cells": [
    {
      "cell_type": "markdown",
      "metadata": {
        "id": "TEEKQwtYDMUz"
      },
      "source": [
        "**SOFT DEADLINE:** `20.03.2022 23:59 msk` "
      ]
    },
    {
      "cell_type": "markdown",
      "metadata": {
        "id": "g-IAo9sYDMU-"
      },
      "source": [
        "# [5 points] Part 1. Data cleaning"
      ]
    },
    {
      "cell_type": "markdown",
      "metadata": {
        "id": "-SNyjuGjDMU_"
      },
      "source": [
        "The task is to clear the text data of the crawled web-pages from different sites. \n",
        "\n",
        "It is necessary to ensure that the distribution of the 100 most frequent words includes only meaningful words in english language (not particles, conjunctions, prepositions, numbers, tags, symbols)."
      ]
    },
    {
      "cell_type": "markdown",
      "metadata": {
        "id": "TA4VkGl2DMVB"
      },
      "source": [
        "Determine the order of operations below and carry out the appropriate cleaning.\n",
        "\n",
        "1. Remove non-english words\n",
        "1. Remove html-tags (try to do it with regular expression, or play with beautifulsoap library)\n",
        "1. Apply lemmatization / stemming\n",
        "1. Remove stop-words\n",
        "1. Additional processing - At your own initiative, if this helps to obtain a better distribution"
      ]
    },
    {
      "cell_type": "markdown",
      "metadata": {
        "id": "hjLsB9pdDMVC"
      },
      "source": [
        "#### Hints"
      ]
    },
    {
      "cell_type": "markdown",
      "metadata": {
        "id": "mk6ZLncvDMVD"
      },
      "source": [
        "1. To do text processing you may use nltk and re libraries\n",
        "1. and / or any other libraries on your choise"
      ]
    },
    {
      "cell_type": "markdown",
      "metadata": {
        "id": "KCbTa1OiDMVE"
      },
      "source": [
        "#### Data reading"
      ]
    },
    {
      "cell_type": "markdown",
      "metadata": {
        "id": "cXbG649IDMVG"
      },
      "source": [
        "The dataset for this part can be downloaded here: `https://drive.google.com/file/d/1wLwo83J-ikCCZY2RAoYx8NghaSaQ-lBA/view?usp=sharing`"
      ]
    },
    {
      "cell_type": "code",
      "execution_count": 1,
      "metadata": {},
      "outputs": [],
      "source": [
        "import pandas as pd\n",
        "\n",
        "df = pd.read_csv('./web_sites_data.csv')"
      ]
    },
    {
      "cell_type": "markdown",
      "metadata": {
        "id": "fGBTg9g4DMVJ"
      },
      "source": [
        "#### Data processing"
      ]
    },
    {
      "cell_type": "code",
      "execution_count": 2,
      "metadata": {},
      "outputs": [],
      "source": [
        "import nltk\n",
        "from nltk.corpus import stopwords\n",
        "from nltk.corpus import words\n",
        "from nltk.stem import WordNetLemmatizer\n",
        "from bs4 import BeautifulSoup\n",
        "# nltk.download('words')\n",
        "words = set(words.words())\n",
        "stop_words = set(stopwords.words('english'))\n"
      ]
    },
    {
      "cell_type": "code",
      "execution_count": 3,
      "metadata": {},
      "outputs": [],
      "source": [
        "# val = df.iloc[3015].values[0]\n",
        "for index, row in df.iterrows():\n",
        "    val = row.values[0]\n",
        "    lemmatizer = WordNetLemmatizer()\n",
        "    cleantext = BeautifulSoup(val, 'html.parser')\n",
        "    n = \" \".join(cleantext.stripped_strings)\n",
        "    n = n.lower()\n",
        "    n = \" \".join(w for w in nltk.wordpunct_tokenize(n) \\\n",
        "            if w in words and w not in stop_words)\n",
        "    n = lemmatizer.lemmatize(n)\n",
        "    row.values[0] = n"
      ]
    },
    {
      "cell_type": "code",
      "execution_count": 4,
      "metadata": {
        "id": "nbpM3QUwDMVK"
      },
      "outputs": [],
      "source": [
        "freq = nltk.FreqDist(nltk.word_tokenize(\" \".join(row.values[0] for _, row in df.iterrows())))\n"
      ]
    },
    {
      "cell_type": "code",
      "execution_count": 5,
      "metadata": {
        "id": "Hklvhb6RDMVL"
      },
      "outputs": [],
      "source": [
        "freq_df = pd.DataFrame.from_records(\n",
        "    freq.most_common(100), columns=['Word', 'Count'])"
      ]
    },
    {
      "cell_type": "markdown",
      "metadata": {
        "id": "_h_c-1kBDMVN"
      },
      "source": [
        "#### Vizualization"
      ]
    },
    {
      "cell_type": "markdown",
      "metadata": {
        "id": "HTu83iAWDMVN"
      },
      "source": [
        "As a visualisation, it is necessary to construct a frequency distribution of words (the 100 most common words), sorted by frequency. \n",
        "\n",
        "For visualization purposes we advice you to use plotly, but you are free to choose other libraries"
      ]
    },
    {
      "cell_type": "code",
      "execution_count": 6,
      "metadata": {
        "id": "bHX6IXcrDMVO"
      },
      "outputs": [
        {
          "data": {
            "application/vnd.plotly.v1+json": {
              "config": {
                "plotlyServerURL": "https://plot.ly"
              },
              "data": [
                {
                  "alignmentgroup": "True",
                  "bingroup": "x",
                  "histfunc": "sum",
                  "hovertemplate": "Word=%{x}<br>sum of Count=%{y}<extra></extra>",
                  "legendgroup": "",
                  "marker": {
                    "color": "#636efa",
                    "pattern": {
                      "shape": ""
                    }
                  },
                  "name": "",
                  "offsetgroup": "",
                  "orientation": "v",
                  "showlegend": false,
                  "type": "histogram",
                  "x": [
                    "game",
                    "news",
                    "top",
                    "net",
                    "stock",
                    "home",
                    "us",
                    "video",
                    "world",
                    "time",
                    "new",
                    "market",
                    "player",
                    "site",
                    "data",
                    "city",
                    "league",
                    "search",
                    "review",
                    "get",
                    "sports",
                    "privacy",
                    "media",
                    "see",
                    "price",
                    "company",
                    "user",
                    "rating",
                    "free",
                    "view",
                    "use",
                    "information",
                    "action",
                    "date",
                    "small",
                    "football",
                    "interactive",
                    "help",
                    "cup",
                    "contact",
                    "content",
                    "buy",
                    "quote",
                    "e",
                    "policy",
                    "last",
                    "biz",
                    "may",
                    "add",
                    "si",
                    "real",
                    "team",
                    "international",
                    "club",
                    "cell",
                    "first",
                    "high",
                    "copyright",
                    "n",
                    "release",
                    "war",
                    "digital",
                    "product",
                    "popular",
                    "reserved",
                    "press",
                    "also",
                    "stocks",
                    "back",
                    "score",
                    "man",
                    "map",
                    "p",
                    "one",
                    "day",
                    "list",
                    "latest",
                    "edition",
                    "number",
                    "publisher",
                    "change",
                    "service",
                    "find",
                    "fantasy",
                    "days",
                    "low",
                    "profile",
                    "update",
                    "report",
                    "developer",
                    "community",
                    "live",
                    "play",
                    "entertainment",
                    "agreement",
                    "sign",
                    "page",
                    "year",
                    "web",
                    "name"
                  ],
                  "xaxis": "x",
                  "y": [
                    272924,
                    246720,
                    168560,
                    162554,
                    151676,
                    142492,
                    131079,
                    113983,
                    112548,
                    112045,
                    110552,
                    96201,
                    91895,
                    88782,
                    80637,
                    80197,
                    77522,
                    75458,
                    74104,
                    73908,
                    73844,
                    71164,
                    70942,
                    68519,
                    66696,
                    65884,
                    62639,
                    61774,
                    61497,
                    61125,
                    59881,
                    59610,
                    57610,
                    57273,
                    56416,
                    56281,
                    56052,
                    56002,
                    55951,
                    54822,
                    54670,
                    53822,
                    53815,
                    53055,
                    52659,
                    51684,
                    49467,
                    48863,
                    48002,
                    47973,
                    47788,
                    47414,
                    46348,
                    46018,
                    45999,
                    45693,
                    45091,
                    45001,
                    44345,
                    43809,
                    42757,
                    42756,
                    42669,
                    42542,
                    42493,
                    42460,
                    41160,
                    41001,
                    40828,
                    40172,
                    38703,
                    38456,
                    38404,
                    38380,
                    37886,
                    37786,
                    37548,
                    37498,
                    37426,
                    37271,
                    37037,
                    36922,
                    36846,
                    36738,
                    35962,
                    35961,
                    34746,
                    34267,
                    34085,
                    34071,
                    33964,
                    33888,
                    33799,
                    33622,
                    33519,
                    33352,
                    33227,
                    33083,
                    32962,
                    32923
                  ],
                  "yaxis": "y"
                }
              ],
              "layout": {
                "barmode": "relative",
                "legend": {
                  "tracegroupgap": 0
                },
                "margin": {
                  "t": 60
                },
                "template": {
                  "data": {
                    "bar": [
                      {
                        "error_x": {
                          "color": "#2a3f5f"
                        },
                        "error_y": {
                          "color": "#2a3f5f"
                        },
                        "marker": {
                          "line": {
                            "color": "#E5ECF6",
                            "width": 0.5
                          },
                          "pattern": {
                            "fillmode": "overlay",
                            "size": 10,
                            "solidity": 0.2
                          }
                        },
                        "type": "bar"
                      }
                    ],
                    "barpolar": [
                      {
                        "marker": {
                          "line": {
                            "color": "#E5ECF6",
                            "width": 0.5
                          },
                          "pattern": {
                            "fillmode": "overlay",
                            "size": 10,
                            "solidity": 0.2
                          }
                        },
                        "type": "barpolar"
                      }
                    ],
                    "carpet": [
                      {
                        "aaxis": {
                          "endlinecolor": "#2a3f5f",
                          "gridcolor": "white",
                          "linecolor": "white",
                          "minorgridcolor": "white",
                          "startlinecolor": "#2a3f5f"
                        },
                        "baxis": {
                          "endlinecolor": "#2a3f5f",
                          "gridcolor": "white",
                          "linecolor": "white",
                          "minorgridcolor": "white",
                          "startlinecolor": "#2a3f5f"
                        },
                        "type": "carpet"
                      }
                    ],
                    "choropleth": [
                      {
                        "colorbar": {
                          "outlinewidth": 0,
                          "ticks": ""
                        },
                        "type": "choropleth"
                      }
                    ],
                    "contour": [
                      {
                        "colorbar": {
                          "outlinewidth": 0,
                          "ticks": ""
                        },
                        "colorscale": [
                          [
                            0,
                            "#0d0887"
                          ],
                          [
                            0.1111111111111111,
                            "#46039f"
                          ],
                          [
                            0.2222222222222222,
                            "#7201a8"
                          ],
                          [
                            0.3333333333333333,
                            "#9c179e"
                          ],
                          [
                            0.4444444444444444,
                            "#bd3786"
                          ],
                          [
                            0.5555555555555556,
                            "#d8576b"
                          ],
                          [
                            0.6666666666666666,
                            "#ed7953"
                          ],
                          [
                            0.7777777777777778,
                            "#fb9f3a"
                          ],
                          [
                            0.8888888888888888,
                            "#fdca26"
                          ],
                          [
                            1,
                            "#f0f921"
                          ]
                        ],
                        "type": "contour"
                      }
                    ],
                    "contourcarpet": [
                      {
                        "colorbar": {
                          "outlinewidth": 0,
                          "ticks": ""
                        },
                        "type": "contourcarpet"
                      }
                    ],
                    "heatmap": [
                      {
                        "colorbar": {
                          "outlinewidth": 0,
                          "ticks": ""
                        },
                        "colorscale": [
                          [
                            0,
                            "#0d0887"
                          ],
                          [
                            0.1111111111111111,
                            "#46039f"
                          ],
                          [
                            0.2222222222222222,
                            "#7201a8"
                          ],
                          [
                            0.3333333333333333,
                            "#9c179e"
                          ],
                          [
                            0.4444444444444444,
                            "#bd3786"
                          ],
                          [
                            0.5555555555555556,
                            "#d8576b"
                          ],
                          [
                            0.6666666666666666,
                            "#ed7953"
                          ],
                          [
                            0.7777777777777778,
                            "#fb9f3a"
                          ],
                          [
                            0.8888888888888888,
                            "#fdca26"
                          ],
                          [
                            1,
                            "#f0f921"
                          ]
                        ],
                        "type": "heatmap"
                      }
                    ],
                    "heatmapgl": [
                      {
                        "colorbar": {
                          "outlinewidth": 0,
                          "ticks": ""
                        },
                        "colorscale": [
                          [
                            0,
                            "#0d0887"
                          ],
                          [
                            0.1111111111111111,
                            "#46039f"
                          ],
                          [
                            0.2222222222222222,
                            "#7201a8"
                          ],
                          [
                            0.3333333333333333,
                            "#9c179e"
                          ],
                          [
                            0.4444444444444444,
                            "#bd3786"
                          ],
                          [
                            0.5555555555555556,
                            "#d8576b"
                          ],
                          [
                            0.6666666666666666,
                            "#ed7953"
                          ],
                          [
                            0.7777777777777778,
                            "#fb9f3a"
                          ],
                          [
                            0.8888888888888888,
                            "#fdca26"
                          ],
                          [
                            1,
                            "#f0f921"
                          ]
                        ],
                        "type": "heatmapgl"
                      }
                    ],
                    "histogram": [
                      {
                        "marker": {
                          "pattern": {
                            "fillmode": "overlay",
                            "size": 10,
                            "solidity": 0.2
                          }
                        },
                        "type": "histogram"
                      }
                    ],
                    "histogram2d": [
                      {
                        "colorbar": {
                          "outlinewidth": 0,
                          "ticks": ""
                        },
                        "colorscale": [
                          [
                            0,
                            "#0d0887"
                          ],
                          [
                            0.1111111111111111,
                            "#46039f"
                          ],
                          [
                            0.2222222222222222,
                            "#7201a8"
                          ],
                          [
                            0.3333333333333333,
                            "#9c179e"
                          ],
                          [
                            0.4444444444444444,
                            "#bd3786"
                          ],
                          [
                            0.5555555555555556,
                            "#d8576b"
                          ],
                          [
                            0.6666666666666666,
                            "#ed7953"
                          ],
                          [
                            0.7777777777777778,
                            "#fb9f3a"
                          ],
                          [
                            0.8888888888888888,
                            "#fdca26"
                          ],
                          [
                            1,
                            "#f0f921"
                          ]
                        ],
                        "type": "histogram2d"
                      }
                    ],
                    "histogram2dcontour": [
                      {
                        "colorbar": {
                          "outlinewidth": 0,
                          "ticks": ""
                        },
                        "colorscale": [
                          [
                            0,
                            "#0d0887"
                          ],
                          [
                            0.1111111111111111,
                            "#46039f"
                          ],
                          [
                            0.2222222222222222,
                            "#7201a8"
                          ],
                          [
                            0.3333333333333333,
                            "#9c179e"
                          ],
                          [
                            0.4444444444444444,
                            "#bd3786"
                          ],
                          [
                            0.5555555555555556,
                            "#d8576b"
                          ],
                          [
                            0.6666666666666666,
                            "#ed7953"
                          ],
                          [
                            0.7777777777777778,
                            "#fb9f3a"
                          ],
                          [
                            0.8888888888888888,
                            "#fdca26"
                          ],
                          [
                            1,
                            "#f0f921"
                          ]
                        ],
                        "type": "histogram2dcontour"
                      }
                    ],
                    "mesh3d": [
                      {
                        "colorbar": {
                          "outlinewidth": 0,
                          "ticks": ""
                        },
                        "type": "mesh3d"
                      }
                    ],
                    "parcoords": [
                      {
                        "line": {
                          "colorbar": {
                            "outlinewidth": 0,
                            "ticks": ""
                          }
                        },
                        "type": "parcoords"
                      }
                    ],
                    "pie": [
                      {
                        "automargin": true,
                        "type": "pie"
                      }
                    ],
                    "scatter": [
                      {
                        "marker": {
                          "colorbar": {
                            "outlinewidth": 0,
                            "ticks": ""
                          }
                        },
                        "type": "scatter"
                      }
                    ],
                    "scatter3d": [
                      {
                        "line": {
                          "colorbar": {
                            "outlinewidth": 0,
                            "ticks": ""
                          }
                        },
                        "marker": {
                          "colorbar": {
                            "outlinewidth": 0,
                            "ticks": ""
                          }
                        },
                        "type": "scatter3d"
                      }
                    ],
                    "scattercarpet": [
                      {
                        "marker": {
                          "colorbar": {
                            "outlinewidth": 0,
                            "ticks": ""
                          }
                        },
                        "type": "scattercarpet"
                      }
                    ],
                    "scattergeo": [
                      {
                        "marker": {
                          "colorbar": {
                            "outlinewidth": 0,
                            "ticks": ""
                          }
                        },
                        "type": "scattergeo"
                      }
                    ],
                    "scattergl": [
                      {
                        "marker": {
                          "colorbar": {
                            "outlinewidth": 0,
                            "ticks": ""
                          }
                        },
                        "type": "scattergl"
                      }
                    ],
                    "scattermapbox": [
                      {
                        "marker": {
                          "colorbar": {
                            "outlinewidth": 0,
                            "ticks": ""
                          }
                        },
                        "type": "scattermapbox"
                      }
                    ],
                    "scatterpolar": [
                      {
                        "marker": {
                          "colorbar": {
                            "outlinewidth": 0,
                            "ticks": ""
                          }
                        },
                        "type": "scatterpolar"
                      }
                    ],
                    "scatterpolargl": [
                      {
                        "marker": {
                          "colorbar": {
                            "outlinewidth": 0,
                            "ticks": ""
                          }
                        },
                        "type": "scatterpolargl"
                      }
                    ],
                    "scatterternary": [
                      {
                        "marker": {
                          "colorbar": {
                            "outlinewidth": 0,
                            "ticks": ""
                          }
                        },
                        "type": "scatterternary"
                      }
                    ],
                    "surface": [
                      {
                        "colorbar": {
                          "outlinewidth": 0,
                          "ticks": ""
                        },
                        "colorscale": [
                          [
                            0,
                            "#0d0887"
                          ],
                          [
                            0.1111111111111111,
                            "#46039f"
                          ],
                          [
                            0.2222222222222222,
                            "#7201a8"
                          ],
                          [
                            0.3333333333333333,
                            "#9c179e"
                          ],
                          [
                            0.4444444444444444,
                            "#bd3786"
                          ],
                          [
                            0.5555555555555556,
                            "#d8576b"
                          ],
                          [
                            0.6666666666666666,
                            "#ed7953"
                          ],
                          [
                            0.7777777777777778,
                            "#fb9f3a"
                          ],
                          [
                            0.8888888888888888,
                            "#fdca26"
                          ],
                          [
                            1,
                            "#f0f921"
                          ]
                        ],
                        "type": "surface"
                      }
                    ],
                    "table": [
                      {
                        "cells": {
                          "fill": {
                            "color": "#EBF0F8"
                          },
                          "line": {
                            "color": "white"
                          }
                        },
                        "header": {
                          "fill": {
                            "color": "#C8D4E3"
                          },
                          "line": {
                            "color": "white"
                          }
                        },
                        "type": "table"
                      }
                    ]
                  },
                  "layout": {
                    "annotationdefaults": {
                      "arrowcolor": "#2a3f5f",
                      "arrowhead": 0,
                      "arrowwidth": 1
                    },
                    "autotypenumbers": "strict",
                    "coloraxis": {
                      "colorbar": {
                        "outlinewidth": 0,
                        "ticks": ""
                      }
                    },
                    "colorscale": {
                      "diverging": [
                        [
                          0,
                          "#8e0152"
                        ],
                        [
                          0.1,
                          "#c51b7d"
                        ],
                        [
                          0.2,
                          "#de77ae"
                        ],
                        [
                          0.3,
                          "#f1b6da"
                        ],
                        [
                          0.4,
                          "#fde0ef"
                        ],
                        [
                          0.5,
                          "#f7f7f7"
                        ],
                        [
                          0.6,
                          "#e6f5d0"
                        ],
                        [
                          0.7,
                          "#b8e186"
                        ],
                        [
                          0.8,
                          "#7fbc41"
                        ],
                        [
                          0.9,
                          "#4d9221"
                        ],
                        [
                          1,
                          "#276419"
                        ]
                      ],
                      "sequential": [
                        [
                          0,
                          "#0d0887"
                        ],
                        [
                          0.1111111111111111,
                          "#46039f"
                        ],
                        [
                          0.2222222222222222,
                          "#7201a8"
                        ],
                        [
                          0.3333333333333333,
                          "#9c179e"
                        ],
                        [
                          0.4444444444444444,
                          "#bd3786"
                        ],
                        [
                          0.5555555555555556,
                          "#d8576b"
                        ],
                        [
                          0.6666666666666666,
                          "#ed7953"
                        ],
                        [
                          0.7777777777777778,
                          "#fb9f3a"
                        ],
                        [
                          0.8888888888888888,
                          "#fdca26"
                        ],
                        [
                          1,
                          "#f0f921"
                        ]
                      ],
                      "sequentialminus": [
                        [
                          0,
                          "#0d0887"
                        ],
                        [
                          0.1111111111111111,
                          "#46039f"
                        ],
                        [
                          0.2222222222222222,
                          "#7201a8"
                        ],
                        [
                          0.3333333333333333,
                          "#9c179e"
                        ],
                        [
                          0.4444444444444444,
                          "#bd3786"
                        ],
                        [
                          0.5555555555555556,
                          "#d8576b"
                        ],
                        [
                          0.6666666666666666,
                          "#ed7953"
                        ],
                        [
                          0.7777777777777778,
                          "#fb9f3a"
                        ],
                        [
                          0.8888888888888888,
                          "#fdca26"
                        ],
                        [
                          1,
                          "#f0f921"
                        ]
                      ]
                    },
                    "colorway": [
                      "#636efa",
                      "#EF553B",
                      "#00cc96",
                      "#ab63fa",
                      "#FFA15A",
                      "#19d3f3",
                      "#FF6692",
                      "#B6E880",
                      "#FF97FF",
                      "#FECB52"
                    ],
                    "font": {
                      "color": "#2a3f5f"
                    },
                    "geo": {
                      "bgcolor": "white",
                      "lakecolor": "white",
                      "landcolor": "#E5ECF6",
                      "showlakes": true,
                      "showland": true,
                      "subunitcolor": "white"
                    },
                    "hoverlabel": {
                      "align": "left"
                    },
                    "hovermode": "closest",
                    "mapbox": {
                      "style": "light"
                    },
                    "paper_bgcolor": "white",
                    "plot_bgcolor": "#E5ECF6",
                    "polar": {
                      "angularaxis": {
                        "gridcolor": "white",
                        "linecolor": "white",
                        "ticks": ""
                      },
                      "bgcolor": "#E5ECF6",
                      "radialaxis": {
                        "gridcolor": "white",
                        "linecolor": "white",
                        "ticks": ""
                      }
                    },
                    "scene": {
                      "xaxis": {
                        "backgroundcolor": "#E5ECF6",
                        "gridcolor": "white",
                        "gridwidth": 2,
                        "linecolor": "white",
                        "showbackground": true,
                        "ticks": "",
                        "zerolinecolor": "white"
                      },
                      "yaxis": {
                        "backgroundcolor": "#E5ECF6",
                        "gridcolor": "white",
                        "gridwidth": 2,
                        "linecolor": "white",
                        "showbackground": true,
                        "ticks": "",
                        "zerolinecolor": "white"
                      },
                      "zaxis": {
                        "backgroundcolor": "#E5ECF6",
                        "gridcolor": "white",
                        "gridwidth": 2,
                        "linecolor": "white",
                        "showbackground": true,
                        "ticks": "",
                        "zerolinecolor": "white"
                      }
                    },
                    "shapedefaults": {
                      "line": {
                        "color": "#2a3f5f"
                      }
                    },
                    "ternary": {
                      "aaxis": {
                        "gridcolor": "white",
                        "linecolor": "white",
                        "ticks": ""
                      },
                      "baxis": {
                        "gridcolor": "white",
                        "linecolor": "white",
                        "ticks": ""
                      },
                      "bgcolor": "#E5ECF6",
                      "caxis": {
                        "gridcolor": "white",
                        "linecolor": "white",
                        "ticks": ""
                      }
                    },
                    "title": {
                      "x": 0.05
                    },
                    "xaxis": {
                      "automargin": true,
                      "gridcolor": "white",
                      "linecolor": "white",
                      "ticks": "",
                      "title": {
                        "standoff": 15
                      },
                      "zerolinecolor": "white",
                      "zerolinewidth": 2
                    },
                    "yaxis": {
                      "automargin": true,
                      "gridcolor": "white",
                      "linecolor": "white",
                      "ticks": "",
                      "title": {
                        "standoff": 15
                      },
                      "zerolinecolor": "white",
                      "zerolinewidth": 2
                    }
                  }
                },
                "xaxis": {
                  "anchor": "y",
                  "domain": [
                    0,
                    1
                  ],
                  "tickmode": "linear",
                  "title": {
                    "text": "Word"
                  }
                },
                "yaxis": {
                  "anchor": "x",
                  "domain": [
                    0,
                    1
                  ],
                  "title": {
                    "text": "sum of Count"
                  }
                }
              }
            }
          },
          "metadata": {},
          "output_type": "display_data"
        }
      ],
      "source": [
        "import plotly.express as px\n",
        "fig = px.histogram(freq_df, x=\"Word\", y=\"Count\")\n",
        "fig.update_xaxes(tickmode=\"linear\")\n",
        "fig.show()"
      ]
    },
    {
      "cell_type": "markdown",
      "metadata": {
        "id": "5ZxcPfLTDMVO"
      },
      "source": [
        "#### Provide examples of processed text (some parts)\n",
        "\n",
        "Is everything all right with the result of cleaning these examples? What kind of information was lost?"
      ]
    },
    {
      "cell_type": "code",
      "execution_count": null,
      "metadata": {
        "id": "2BSMfa9lDMVP"
      },
      "outputs": [],
      "source": []
    },
    {
      "cell_type": "markdown",
      "metadata": {},
      "source": [
        "### Was\n",
        "```<html> <head profile=\"\"http://www.w3.org/2005/10/profile\"\"> <LINK REL=\"\"SHORTCUT ICON\"\" href=\"\"http://i.bookmooch.com/favicon.ico\"\"> <link rel=\"\"icon\"\" type=\"\"image/png\"\" href=\"\"http://i.bookmooch.com/favicon.png\"\"> <title>Eric Newby : Love and War in the Apennines</title> <meta http-equiv=\"\"Content-Type\"\" content=\"\"text/html\"\"> </head> <body bgcolor=\"\"#FFFFFF\"\" leftmargin=\"\"0\"\" topmargin=\"\"0\"\" marginwidth=\"\"0\"\" marginheight=\"\"0\"\" text=\"\"#000000\"\" link=\"\"#0000FF\"\" vlink=\"\"#0000FF\"\" alink=\"\"#FF0000\"\" > <basefont face=\"\"arial, sans-serif\"\"><font face=\"\"arial, sans-serif\"\"> <table width=\"\"100%\"\" height=\"\"70\"\" border=\"\"0\"\" cellpadding=\"\"0\"\" cellspacing=\"\"0\"\"> <tr><form action=\"\"/search\"\" method=\"\"get\"\"> <td width=\"\"283\"\" colspan=\"\"2\"\" rowspan=\"\"2\"\" bgcolor=\"\"#689A9B\"\"> <a href=\"\"/\"\"> <img src=\"\"http://i.bookmooch.com/images/bookmooch_logo.gif\"\" width=\"\"283\"\" height=\"\"66\"\" border=\"\"0\"\" alt=\"\"BookMooch logo\"\"></a></td> <td width=\"\"675\"\" height=\"\"38\"\" colspan=\"\"9\"\" align=\"\"right\"\" bgcolor=\"\"#689A9B\"\" xcolor=\"\"#689A9B\"\"> <table border=0 cellpadding=\"\"0\"\" cellspacing=\"\"0\"\"><tr> <td width=270 height=18 valign=\"\"middle\"\" align=\"\"right\"\"> <INPUT TYPE=\"\"text\"\" NAME=\"\"w\"\" VALUE=\"\"\"\" SIZE=\"\"20\"\" MAXLENGTH=\"\"100\"\">&nbsp;</td> <td width=67 height=18 valign=\"\"middle\"\" align=\"\"right\"\"><input type=\"\"image\"\" BORDER=\"\"0\"\" title=\"\"search\"\" alt=\"\"search\"\" src=\"\"http://i.bookmooch.com/images/search_button.gif\"\" width=\"\"67\"\" height=\"\"18\"\" name=\"\"search\"\"></td> <td height=38 width=37><img src=\"\"http://i.bookmooch.com/images/spacer.gif\"\" width=\"\"10\"\" height=\"\"1\"\" alt=\"\"\"\"></td></tr> </table> </td> <td bgcolor=\"\"#689A9B\"\" width=940><img src=\"\"http://i.bookmooch.com/images/spacer.gif\"\" width=\"\"1\"\" height=\"\"1\"\" alt=\"\"\"\"></td> </tr></form> <tr> <td width=\"\"193\"\" height=\"\"28\"\" bgcolor=\"\"#689A9B\"\"><img src=\"\"http://i.bookmooch.com/images/spacer.gif\"\" width=\"\"193\"\" height=\"\"28\"\" alt=\"\"\"\"></td> <td bgcolor=\"\"#FFFF99\"\"><a href=\"\"/\"\"><img src=\"\"http://i.bookmooch.com/images/home.gif\"\" width=\"\"85\"\" height=\"\"28\"\" border=\"\"0\"\" alt=\"\"home\"\"></a></td> <td bgcolor=\"\"#98D5DF\"\"><a href=\"\"/browse\"\"><img src=\"\"http://i.bookmooch.com/images/browse_selected.gif\"\" width=\"\"86\"\" height=\"\"28\"\" border=\"\"0\"\" alt=\"\"browse\"\"></a></td> <td colspan=\"\"2\"\" bgcolor=\"\"#97D5DF\"\"><a href=\"\"/about/\"\"><img src=\"\"http://i.bookmooch.com/images/about.gif\"\" width=\"\"85\"\" height=\"\"28\"\" border=\"\"0\"\" alt=\"\"about\"\"></a></td> <td bgcolor=\"\"#8DD1D8\"\"><a href=\"\"/join\"\"><img src=\"\"http://i.bookmooch.com/images/join.gif\"\" width=\"\"86\"\" height=\"\"28\"\" border=\"\"0\"\" alt=\"\"join\"\"></a></td> <td bgcolor=\"\"#92D3DD\"\"><a href=\"\"/login\"\"><img src=\"\"http://i.bookmooch.com/images/login.gif\"\" width=\"\"84\"\" height=\"\"28\"\" border=\"\"0\"\" alt=\"\"login\"\"></a></td> <td width=\"\"38\"\" height=\"\"28\"\" colspan=\"\"2\"\" bgcolor=\"\"#689A9B\"\"><img src=\"\"http://i.bookmooch.com/images/spacer.gif\"\" width=\"\"38\"\" height=\"\"28\"\" alt=\"\"\"\"></td><td bgcolor=\"\"#689A9B\"\" width=\"\"100%\"\"><img src=\"\"http://i.bookmooch.com/images/spacer.gif\"\" width=\"\"1\"\" height=\"\"1\"\" alt=\"\"\"\"></td> </tr> <tr> <td width=\"\"940\"\" height=\"\"4\"\" colspan=\"\"11\"\" bgcolor=\"\"#FFFF99\"\"> <img src=\"\"http://i.bookmooch.com/images/spacer.gif\"\" width=\"\"940\"\" height=\"\"4\"\" alt=\"\"\"\"></td><td bgcolor=\"\"#FFFF99\"\" width=100%><img src=\"\"http://i.bookmooch.com/images/spacer.gif\"\" width=\"\"1\"\" height=\"\"1\"\" alt=\"\"\"\"></td> </tr> </table> <table width=\"\"100%\"\" border=\"\"0\"\" cellpadding=\"\"0\"\" cellspacing=\"\"0\"\"><tr> <td><img src=\"\"http://i.bookmooch.com/images/spacer.gif\"\" width=\"\"1\"\" height=\"\"12\"\" alt=\"\"\"\"></td><td></td><td></td></tr><td width=12><img src=\"\"http://i.bookmooch.com/images/spacer.gif\"\" width=\"\"12\"\" height=\"\"1\"\" alt=\"\"\"\"></td><td>\n",
        "\n",
        "<Table width=891 cellspacing=0 cellpadding=0 border=0><tr><Td align=\"\"left\"\"><font face=\"\"Verdana, Arial, utopia, sans-serif\"\" size=4 color=\"\"#1F4A58\"\">Eric Newby : Love and War in the Apennines</font></td><td align=\"\"right\"\"><table id=\"\"button\"\" height=\"\"18\"\" border=\"\"0\"\" cellpadding=\"\"0\"\" cellspacing=\"\"0\"\"> <tr> <td bgcolor=\"\"#6EB0B1\"\"> <a href=\"\"http://wiki.bookmooch.com/index.php?title=Book+detail\"\" target=\"\"help\"\" title=\"\"help\"\"><img border=0 bgcolor=\"\"#6EB0B1\"\" src=\"\"http://i.bookmooch.com/images/button_template_left.gif\"\" width=\"\"5\"\" height=\"\"18\"\" alt=\"\"\"\"></a></td> <td valign=\"\"middle\"\" height=\"\"18\"\" bgcolor=\"\"#6EB0B1\"\"><a target=\"\"help\"\" STYLE=\"\"text-decoration:none\"\" href=\"\"http://wiki.bookmooch.com/index.php?title=Book+detail\"\" title=\"\"help\"\"><font face=\"\"Verdana, Arial, utopia, sans-serif\"\" size=2 color=\"\"#FFFFFF\"\"><nobr>?</nobr></font></a></td> <td bgcolor=\"\"#6EB0B1\"\"> <a target=\"\"help\"\" href=\"\"http://wiki.bookmooch.com/index.php?title=Book+detail\"\" title=\"\"help\"\"><img border=0 bgcolor=\"\"#6EB0B1\"\" src=\"\"http://i.bookmooch.com/images/button_template_right.gif\"\" width=\"\"6\"\" height=\"\"18\"\" alt=\"\"\"\"></a></td> </tr> </table></td></tr></table><img src=\"\"http://i.bookmooch.com/images/spacer.gif\"\" width=\"\"5\"\" height=\"\"5\"\" alt=\"\"\"\"><br><img src=\"\"http://i.bookmooch.com/images/greydot.gif\"\" width=\"\"891\"\" height=\"\"1\"\" alt=\"\"\"\"><br><img src=\"\"http://i.bookmooch.com/images/spacer.gif\"\" width=\"\"1\"\" height=\"\"12\"\" alt=\"\"\"\"><br>\n",
        "\n",
        " <table border=0 cellpadding=0 width=1221 cellspacing=0><tr><td valign=\"\"top\"\"> <table border=0 cellpadding=1 width=891 cellspacing=0><tr> <td valign=\"\"top\"\" align=\"\"left\"\"> <table border=0 width=100% cellpadding=1 cellspacing=0> <tr> <td valign=\"\"top\"\" align=\"\"right\"\" bgcolor=\"\"FFFFFF\"\">Author:</td> <td></td> <td valign=\"\"top\"\" bgcolor=\"\"FFFFFF\"\"><a title=\"\"Search for this author\"\" for href=\"\"/s/eric+newby\"\">Eric Newby</a> </td> </tr> <tr> <td valign=\"\"top\"\" width=10% align=\"\"right\"\" bgcolor=\"\"FFFFFF\"\">Title:</td> <td><img src=\"\"http://i.bookmooch.com/images/spacer.gif\"\" width=\"\"12\"\" height=\"\"1\"\" alt=\"\"\"\"></td> <td valign=\"\"top\"\" width=90% bgcolor=\"\"FFFFFF\"\"><a title=\"\"Search for this title\"\" href=\"\"/s/love+and+war+in+the+apennines\"\">Love and War in the Apennines</a></td> </tr> <tr> <td valign=\"\"top\"\" align=\"\"right\"\" bgcolor=\"\"FFFFFF\"\">Moochable&nbsp;copies:</td> <td></td> <td valign=\"\"top\"\" bgcolor=\"\"FFFFFF\"\">No copies available</td> </tr> <tr> <td valign=\"\"top\"\" align=\"\"right\"\" bgcolor=\"\"FFFFFF\"\">Amazon&nbsp;suggests:</td> <td></td><form action=\"\"/recommended_get\"\" method=\"\"get\"\" name=\"\"form31\"\"><input type=\"\"hidden\"\" name=\"\"go\"\" value=\"\"0001049305\"\"> <td valign=\"\"top\"\" bgcolor=\"\"FFFFFF\"\"><table cellspacing=0 cellpadding=0 border=0><tr><td align=\"\"left\"\" valign=\"\"top\"\"><select size=1 name=\"\"asin\"\"><option value=\"\"0864426046\"\">A Short Walk in the Hindu Kush</option><option value=\"\"0864426313\"\">Slowly Down the Ganges</option><option value=\"\"0864426216\"\">On the Shores of the Mediterranean</option><option value=\"\"0864427689\"\">The Last Grain Race</option><option value=\"\"0864426275\"\">Round Ireland in Low Gear</option></select></td><td><img src=\"\"http://i.bookmooch.com/images/spacer.gif\"\" width=\"\"5\"\" height=\"\"1\"\" alt=\"\"\"\"></td><td align=\"\"left\"\" valign=\"\"top\"\"><table id=\"\"button\"\" height=\"\"18\"\" border=\"\"0\"\" cellpadding=\"\"0\"\" cellspacing=\"\"0\"\"> <tr> <td bgcolor=\"\"#6EB0B1\"\"> <a href=\"\"javascript:document.form31.submit();\"\" title=\"\"\"\"><img border=0 bgcolor=\"\"#6EB0B1\"\" src=\"\"http://i.bookmooch.com/images/button_template_left.gif\"\" width=\"\"5\"\" height=\"\"18\"\" alt=\"\"\"\"></a></td> <td valign=\"\"middle\"\" height=\"\"18\"\" bgcolor=\"\"#6EB0B1\"\"><a STYLE=\"\"text-decoration:none\"\" href=\"\"javascript:document.form31.submit();\"\" title=\"\"\"\"><font face=\"\"Verdana, Arial, utopia, sans-serif\"\" size=1 color=\"\"#FFFFFF\"\"><nobr>></nobr></font></a></td> <td bgcolor=\"\"#6EB0B1\"\"> <a href=\"\"javascript:document.form31.submit();\"\" title=\"\"\"\"><img border=0 bgcolor=\"\"#6EB0B1\"\" src=\"\"http://i.bookmooch.com/images/button_template_right.gif\"\" width=\"\"6\"\" height=\"\"18\"\" alt=\"\"\"\"></a></td> </tr> </table></td></tr></table></td></form> </tr> <tr> <td valign=\"\"top\"\" align=\"\"right\"\" bgcolor=\"\"FFFFFF\"\">Recommended:</td> <td></td> <form action=\"\"/recommended_get\"\" method=\"\"get\"\" name=\"\"form3\"\"><input type=\"\"hidden\"\" name=\"\"go\"\" value=\"\"0001049305\"\"><td valign=\"\"top\"\" bgcolor=\"\"FFFFFF\"\"> <table cellspacing=0 cellpadding=0 border=0><tr><td align=\"\"left\"\" valign=\"\"top\"\"><select size=1 name=\"\"asin\"\"><option value=\"\"BM1229593901148194047\"\">BookMooch: Box of 25 BookMooch Bookmarks</option><option value=\"\"more\"\">---</option><option value=\"\"more\"\">Show more recommendations...</option></select></td><td><img src=\"\"http://i.bookmooch.com/images/spacer.gif\"\" width=\"\"5\"\" height=\"\"1\"\" alt=\"\"\"\"></td><td align=\"\"left\"\" valign=\"\"top\"\"><table id=\"\"button\"\" height=\"\"18\"\" border=\"\"0\"\" cellpadding=\"\"0\"\" cellspacing=\"\"0\"\"> <tr> <td bgcolor=\"\"#6EB0B1\"\"> <a href=\"\"javascript:document.form3.submit();\"\" title=\"\"\"\"><img border=0 bgcolor=\"\"#6EB0B1\"\" src=\"\"http://i.bookmooch.com/images/button_template_left.gif\"\" width=\"\"5\"\" height=\"\"18\"\" alt=\"\"\"\"></a></td> <td valign=\"\"middle\"\" height=\"\"18\"\" bgcolor=\"\"#6EB0B1\"\"><a STYLE=\"\"text-decoration:none\"\" href=\"\"javascript:document.form3.submit();\"\" title=\"\"\"\"><font face=\"\"Verdana, Arial, utopia, sans-serif\"\" size=1 color=\"\"#FFFFFF\"\"><nobr>></nobr></font></a></td> <td bgcolor=\"\"#6EB0B1\"\"> <a href=\"\"javascript:document.form3.submit();\"\" title=\"\"\"\"><img border=0 bgcolor=\"\"#6EB0B1\"\" src=\"\"http://i.bookmooch.com/images/button_template_right.gif\"\" width=\"\"6\"\" height=\"\"18\"\" alt=\"\"\"\"></a></td> </tr> </table></td></tr></table> </td></form> </tr> <tr> <td valign=\"\"top\"\" align=\"\"right\"\" bgcolor=\"\"FFFFFF\"\">Topics:</td> <td></td><form action=\"\"/topic_go\"\" method=\"\"get\"\" name=\"\"form\"\"> <td valign=\"\"top\"\" bgcolor=\"\"FFFFFF\"\"> <table cellspacing=0 cellpadding=0 border=0><tr><td align=\"\"left\"\" valign=\"\"top\"\"><select size=1 name=\"\"name\"\"><option value=\"\"Abridged\"\">Abridged</option><option value=\"\"Ancient\"\">Ancient</option><option value=\"\"Asia\"\">Asia</option><option value=\"\"Audiobooks\"\">Audiobooks</option><option value=\"\"Biographies & Memoirs\"\">Biographies & Memoirs</option><option value=\"\"Biographies & Memoirs: General\"\">Biographies & Memoirs: General</option><option value=\"\"Books on Cassette\"\">Books on Cassette</option><option value=\"\"Eastern Front\"\">Eastern Front</option><option value=\"\"Edition (format)\"\">Edition (format)</option><option value=\"\"Europe\"\">Europe</option><option value=\"\"Florence\"\">Florence</option><option value=\"\"Hiroshima & Nagasaki\"\">Hiroshima & Nagasaki</option><option value=\"\"History\"\">History</option><option value=\"\"History: Europe: General\"\">History: Europe: General</option><option value=\"\"History: Europe: Italy: General\"\">History: Europe: Italy: General</option><option value=\"\"Home Front\"\">Home Front</option><option value=\"\"Intelligence Operations\"\">Intelligence Operations</option><option value=\"\"Italy\"\">Italy</option><option value=\"\"Iwo Jima\"\">Iwo Jima</option><option value=\"\"Medieval\"\">Medieval</option><option value=\"\"Milan\"\">Milan</option><option value=\"\"Military\"\">Military</option><option value=\"\"Naples\"\">Naples</option><option value=\"\"Naval\"\">Naval</option><option value=\"\"Normandy\"\">Normandy</option><option value=\"\"Pearl Harbor\"\">Pearl Harbor</option><option value=\"\"Personal Narratives\"\">Personal Narratives</option><option value=\"\"Reference\"\">Reference</option><option value=\"\"Refinements\"\">Refinements</option><option value=\"\"Renaissance\"\">Renaissance</option><option value=\"\"Rome\"\">Rome</option><option value=\"\"Sardinia\"\">Sardinia</option><option value=\"\"Sicily\"\">Sicily</option><option value=\"\"Stalingrad\"\">Stalingrad</option><option value=\"\"Travel\"\">Travel</option><option value=\"\"Travel: Europe: Italy: General\"\">Travel: Europe: Italy: General</option><option value=\"\"Tuscany\"\">Tuscany</option><option value=\"\"Umbria\"\">Umbria</option><option value=\"\"Venice\"\">Venice</option><option value=\"\"Western Front\"\">Western Front</option><option value=\"\"Women\"\">Women</option><option value=\"\"World War II\"\">World War II</option><option value=\"\"Writing\"\">Writing</option></select></td><td><img src=\"\"http://i.bookmooch.com/images/spacer.gif\"\" width=\"\"5\"\" height=\"\"1\"\" alt=\"\"\"\"></td><td align=\"\"left\"\" valign=\"\"top\"\"><table id=\"\"button\"\" height=\"\"18\"\" border=\"\"0\"\" cellpadding=\"\"0\"\" cellspacing=\"\"0\"\"> <tr> <td bgcolor=\"\"#6EB0B1\"\"> <a href=\"\"javascript:document.form.submit();\"\" title=\"\"\"\"><img border=0 bgcolor=\"\"#6EB0B1\"\" src=\"\"http://i.bookmooch.com/images/button_template_left.gif\"\" width=\"\"5\"\" height=\"\"18\"\" alt=\"\"\"\"></a></td> <td valign=\"\"middle\"\" height=\"\"18\"\" bgcolor=\"\"#6EB0B1\"\"><a STYLE=\"\"text-decoration:none\"\" href=\"\"javascript:document.form.submit();\"\" title=\"\"\"\"><font face=\"\"Verdana, Arial, utopia, sans-serif\"\" size=1 color=\"\"#FFFFFF\"\"><nobr>></nobr></font></a></td> <td bgcolor=\"\"#6EB0B1\"\"> <a href=\"\"javascript:document.form.submit();\"\" title=\"\"\"\"><img border=0 bgcolor=\"\"#6EB0B1\"\" src=\"\"http://i.bookmooch.com/images/button_template_right.gif\"\" width=\"\"6\"\" height=\"\"18\"\" alt=\"\"\"\"></a></td> </tr> </table></td></tr></table> </td></form> </tr> <tr> <td valign=\"\"top\"\" align=\"\"right\"\" bgcolor=\"\"FFFFFF\"\">Published&nbsp;in:</td> <td></td> <td valign=\"\"top\"\" bgcolor=\"\"FFFFFF\"\">English</td> </tr> \n",
        "\n",
        " <tr> <td valign=\"\"top\"\" align=\"\"right\"\" bgcolor=\"\"FFFFFF\"\">Binding:</td> <td></td> <td valign=\"\"top\"\" bgcolor=\"\"FFFFFF\"\">Audio Cassette</td> </tr> \n",
        "\n",
        " <tr> <td valign=\"\"top\"\" align=\"\"right\"\" bgcolor=\"\"FFFFFF\"\">Pages:</td> <td></td> <td bgcolor=\"\"FFFFFF\"\"></td> </tr> <tr> <td valign=\"\"top\"\" align=\"\"right\"\" bgcolor=\"\"FFFFFF\"\">Date:</td> <td></td> <td valign=\"\"top\"\" bgcolor=\"\"FFFFFF\"\">1995-10-23</td> </tr> <tr> <td valign=\"\"top\"\" align=\"\"right\"\" bgcolor=\"\"FFFFFF\"\">ISBN:</td> <td></td> <td valign=\"\"top\"\" bgcolor=\"\"FFFFFF\"\">0001049305</td> </tr>\n",
        "\n",
        " <tr> <td valign=\"\"top\"\" align=\"\"right\"\" bgcolor=\"\"FFFFFF\"\">Publisher:</td> <td></td> <td valign=\"\"top\"\" bgcolor=\"\"FFFFFF\"\"><a title=\"\"Search for this publisher\"\" href=\"\"/s/HarperCollins+Audio\"\">HarperCollins Audio</a></td> </tr> <tr> <td valign=\"\"top\"\" align=\"\"right\"\" bgcolor=\"\"FFFFFF\"\">Weight:</td> <td></td> <td valign=\"\"top\"\" bgcolor=\"\"FFFFFF\"\">0.49 pounds</td> </tr> <tr> <td valign=\"\"top\"\" align=\"\"right\"\" bgcolor=\"\"FFFFFF\"\">Size:</td> <td></td> <td valign=\"\"top\"\" bgcolor=\"\"FFFFFF\"\">4.17 x 5.28 x 0.71 inches</td> </tr> <tr> <td valign=\"\"top\"\" align=\"\"right\"\" bgcolor=\"\"FFFFFF\"\">Edition:</td> <td></td> <td valign=\"\"top\"\" bgcolor=\"\"FFFFFF\"\">Abridged Ed</td> </tr> <td valign=\"\"top\"\" align=\"\"right\"\" bgcolor=\"\"FFFFFF\"\">Amazon&nbsp;prices:</td> <td></td> <td valign=\"\"top\"\" bgcolor=\"\"FFFFFF\"\"><table bgcolor=DDDDDD cellspacing=1 cellpadding=0><tr><td><table bgcolor=FFFFFF cellspacing=3 cellpadding=0><tr><td> <table bgcolor=FFFFFF cellspacing=0 cellpadding=0> </table> </td></tr></table></td></tr></table> <font size=1></font></td> <tr> <td valign=\"\"top\"\" align=\"\"right\"\" bgcolor=\"\"FFFFFF\"\">Previous&nbsp;givers:</td> <td></td> <td valign=\"\"top\"\" bgcolor=\"\"FFFFFF\"\">1 <a href=\"\"/bio/jessierey\"\">jessierey (USA: OH)</a></td> </tr> <tr> <td valign=\"\"top\"\" align=\"\"right\"\" bgcolor=\"\"FFFFFF\"\">Previous&nbsp;moochers:</td> <td></td> <td valign=\"\"top\"\" bgcolor=\"\"FFFFFF\"\">1 <a href=\"\"/bio/markwp27\"\">will2-for (USA: CA)</a></td> </tr> <tr> <td valign=\"\"top\"\" align=\"\"right\"\" bgcolor=\"\"FFFFFF\"\">Wishlists:</td> <td></td> <td valign=\"\"top\"\" bgcolor=\"\"FFFFFF\"\"><table cellspacing=0 cellpadding=0 border=0><tr><td align=\"\"left\"\" valign=\"\"top\"\">1</td><td><img src=\"\"http://i.bookmooch.com/images/spacer.gif\"\" width=\"\"5\"\" height=\"\"1\"\" alt=\"\"\"\"></td><td align=\"\"left\"\" valign=\"\"top\"\"><a title=\"\"view this member's wishlist\"\" href=\"\"/wishlist/doobs54\"\">Deb (USA)</a>.</td></tr></table> </td> </tr> <tr> <td valign=\"\"top\"\" align=\"\"right\"\" bgcolor=\"\"FFFFFF\"\">Description:</td> <td></td> <td valign=\"\"top\"\" bgcolor=\"\"FFFFFF\"\"><i>Book Description</I><br> When Italy made peace in the summer of '43, 50,000 Allied POWs, Eric Newby among them, walked away from their prison camps. But Italy was occupied by the Germans, and the camps were behind those lines. Newby went to the mountains where, with the help of locals, he evaded the retreating enemy. <P>Italian peasants sheltered him for more than three months. In this classic memoir of WW II, Newby recalls these selfless people. . .their unchanging lifestyle, the funny, bizarre and dangerous incidents, his hopes of the local girl who later became his wife. <P>\"\"An exciting story, superbly told.\"\" (Punch) <P>Of related interest: Carlino by Stuart Hood and Passages to Freedom by Joseph S. Frelinghuysen, both available from B-O-T.\n",
        "\n",
        "</td> </tr> <tr> <td valign=\"\"top\"\" align=\"\"right\"\" bgcolor=\"\"FFFFFF\"\">URL:</td> <td></td> <td valign=\"\"top\"\" bgcolor=\"\"FFFFFF\"\"><a title=\"\"Link to this book\"\" href=\"\"http://bookmooch.com/0001049305\"\">http://bookmooch.com/0001049305</a></td> </tr> </table></td><td valign=\"\"top\"\" align=\"\"right\"\"> <a target=\"\"lgamazon\"\" onmouseover=\"\"this.T_WIDTH='';return escape('<img src=\\'http://images.amazon.com/images/P/0001049305.01._BO1,130,130,130_PC_SCLZZZZZZZ_.jpg\\' height=\\'\\' width=\\'\\'>')\"\" href=\"\"http://ecx.images-amazon.com/images/I/51CXMAZHTZL._SL500_.jpg\"\" title=\"\"large book cover\"\"><img alt=\"\"large book cover\"\" border=0 height=87 width=70 src=\"\"http://images.amazon.com/images/P/0001049305.01._BO1,130,130,130_PC_SCTZZZZZZZ_.jpg\"\" align=\"\"none\"\"></a><p> <p> <table id=\"\"button\"\" height=\"\"18\"\" border=\"\"0\"\" cellpadding=\"\"0\"\" cellspacing=\"\"0\"\"> <tr> <td bgcolor=\"\"#6EB0B1\"\"> <a href=\"\"/m/wishlist_add?asin=0001049305&store=amazon.com\"\" title=\"\"add this book to the list of books you want right away\"\"><img border=0 bgcolor=\"\"#6EB0B1\"\" src=\"\"http://i.bookmooch.com/images/button_template_left.gif\"\" width=\"\"5\"\" height=\"\"18\"\" alt=\"\"\"\"></a></td> <td valign=\"\"middle\"\" height=\"\"18\"\" bgcolor=\"\"#6EB0B1\"\"><a STYLE=\"\"text-decoration:none\"\" href=\"\"/m/wishlist_add?asin=0001049305&store=amazon.com\"\" title=\"\"add this book to the list of books you want right away\"\"><font face=\"\"Verdana, Arial, utopia, sans-serif\"\" size=2 color=\"\"#FFFFFF\"\"><nobr>WISHLIST&nbsp;ADD&nbsp;></nobr></font></a></td> <td bgcolor=\"\"#6EB0B1\"\"> <a href=\"\"/m/wishlist_add?asin=0001049305&store=amazon.com\"\" title=\"\"add this book to the list of books you want right away\"\"><img border=0 bgcolor=\"\"#6EB0B1\"\" src=\"\"http://i.bookmooch.com/images/button_template_right.gif\"\" width=\"\"6\"\" height=\"\"18\"\" alt=\"\"\"\"></a></td> </tr> </table><img src=\"\"http://i.bookmooch.com/images/spacer.gif\"\" width=\"\"1\"\" height=\"\"2\"\" alt=\"\"\"\"><br> <table id=\"\"button\"\" height=\"\"18\"\" border=\"\"0\"\" cellpadding=\"\"0\"\" cellspacing=\"\"0\"\"> <tr> <td bgcolor=\"\"#6EB0B1\"\"> <a href=\"\"/m/savelater_add?asin=0001049305&store=amazon.com\"\" title=\"\"add this book to those you may someday want\"\"><img border=0 bgcolor=\"\"#6EB0B1\"\" src=\"\"http://i.bookmooch.com/images/button_template_left.gif\"\" width=\"\"5\"\" height=\"\"18\"\" alt=\"\"\"\"></a></td> <td valign=\"\"middle\"\" height=\"\"18\"\" bgcolor=\"\"#6EB0B1\"\"><a STYLE=\"\"text-decoration:none\"\" href=\"\"/m/savelater_add?asin=0001049305&store=amazon.com\"\" title=\"\"add this book to those you may someday want\"\"><font face=\"\"Verdana, Arial, utopia, sans-serif\"\" size=2 color=\"\"#FFFFFF\"\"><nobr>SAVE&nbsp;FOR&nbsp;LATER&nbsp;></nobr></font></a></td> <td bgcolor=\"\"#6EB0B1\"\"> <a href=\"\"/m/savelater_add?asin=0001049305&store=amazon.com\"\" title=\"\"add this book to those you may someday want\"\"><img border=0 bgcolor=\"\"#6EB0B1\"\" src=\"\"http://i.bookmooch.com/images/button_template_right.gif\"\" width=\"\"6\"\" height=\"\"18\"\" alt=\"\"\"\"></a></td> </tr> </table><img src=\"\"http://i.bookmooch.com/images/spacer.gif\"\" width=\"\"1\"\" height=\"\"2\"\" alt=\"\"\"\"><br> <table id=\"\"button\"\" height=\"\"18\"\" border=\"\"0\"\" cellpadding=\"\"0\"\" cellspacing=\"\"0\"\"> <tr> <td bgcolor=\"\"#6EB0B1\"\"> <a href=\"\"http://www.amazon.it/gp/product/0001049305?ie=UTF8&tag=book05e-21&linkCode=bn1\"\" target=\"\"amazon-0001049305\"\" title=\"\"more info about this book at Amazon (a small commission goes to BookMooch if you buy books with this link)\"\"><img border=0 bgcolor=\"\"#6EB0B1\"\" src=\"\"http://i.bookmooch.com/images/button_template_left.gif\"\" width=\"\"5\"\" height=\"\"18\"\" alt=\"\"\"\"></a></td> <td valign=\"\"middle\"\" height=\"\"18\"\" bgcolor=\"\"#6EB0B1\"\"><a target=\"\"amazon-0001049305\"\" STYLE=\"\"text-decoration:none\"\" href=\"\"http://www.amazon.it/gp/product/0001049305?ie=UTF8&tag=book05e-21&linkCode=bn1\"\" title=\"\"more info about this book at Amazon (a small commission goes to BookMooch if you buy books with this link)\"\"><font face=\"\"Verdana, Arial, utopia, sans-serif\"\" size=2 color=\"\"#FFFFFF\"\"><nobr>AMAZON&nbsp;></nobr></font></a></td> <td bgcolor=\"\"#6EB0B1\"\"> <a target=\"\"amazon-0001049305\"\" href=\"\"http://www.amazon.it/gp/product/0001049305?ie=UTF8&tag=book05e-21&linkCode=bn1\"\" title=\"\"more info about this book at Amazon (a small commission goes to BookMooch if you buy books with this link)\"\"><img border=0 bgcolor=\"\"#6EB0B1\"\" src=\"\"http://i.bookmooch.com/images/button_template_right.gif\"\" width=\"\"6\"\" height=\"\"18\"\" alt=\"\"\"\"></a></td> </tr> </table><img src=\"\"http://i.bookmooch.com/images/spacer.gif\"\" width=\"\"1\"\" height=\"\"2\"\" alt=\"\"\"\"><br> <table id=\"\"button\"\" height=\"\"18\"\" border=\"\"0\"\" cellpadding=\"\"0\"\" cellspacing=\"\"0\"\"> <tr> <td bgcolor=\"\"#6EB0B1\"\"> <a href=\"\"/book_sites?asin=0001049305\"\" title=\"\"other web sites with information about this book\"\"><img border=0 bgcolor=\"\"#6EB0B1\"\" src=\"\"http://i.bookmooch.com/images/button_template_left.gif\"\" width=\"\"5\"\" height=\"\"18\"\" alt=\"\"\"\"></a></td> <td valign=\"\"middle\"\" height=\"\"18\"\" bgcolor=\"\"#6EB0B1\"\"><a STYLE=\"\"text-decoration:none\"\" href=\"\"/book_sites?asin=0001049305\"\" title=\"\"other web sites with information about this book\"\"><font face=\"\"Verdana, Arial, utopia, sans-serif\"\" size=2 color=\"\"#FFFFFF\"\"><nobr>OTHER&nbsp;WEB&nbsp;SITES&nbsp;></nobr></font></a></td> <td bgcolor=\"\"#6EB0B1\"\"> <a href=\"\"/book_sites?asin=0001049305\"\" title=\"\"other web sites with information about this book\"\"><img border=0 bgcolor=\"\"#6EB0B1\"\" src=\"\"http://i.bookmooch.com/images/button_template_right.gif\"\" width=\"\"6\"\" height=\"\"18\"\" alt=\"\"\"\"></a></td> </tr> </table><img src=\"\"http://i.bookmooch.com/images/spacer.gif\"\" width=\"\"1\"\" height=\"\"2\"\" alt=\"\"\"\"><br> <table id=\"\"button\"\" height=\"\"18\"\" border=\"\"0\"\" cellpadding=\"\"0\"\" cellspacing=\"\"0\"\"> <tr> <td bgcolor=\"\"#6EB0B1\"\"> <a href=\"\"/related_show?asin=0001049305\"\" title=\"\"show books that are related editions to this one\"\"><img border=0 bgcolor=\"\"#6EB0B1\"\" src=\"\"http://i.bookmooch.com/images/button_template_left.gif\"\" width=\"\"5\"\" height=\"\"18\"\" alt=\"\"\"\"></a></td> <td valign=\"\"middle\"\" height=\"\"18\"\" bgcolor=\"\"#6EB0B1\"\"><a STYLE=\"\"text-decoration:none\"\" href=\"\"/related_show?asin=0001049305\"\" title=\"\"show books that are related editions to this one\"\"><font face=\"\"Verdana, Arial, utopia, sans-serif\"\" size=2 color=\"\"#FFFFFF\"\"><nobr>RELATED&nbsp;EDITIONS&nbsp;></nobr></font></a></td> <td bgcolor=\"\"#6EB0B1\"\"> <a href=\"\"/related_show?asin=0001049305\"\" title=\"\"show books that are related editions to this one\"\"><img border=0 bgcolor=\"\"#6EB0B1\"\" src=\"\"http://i.bookmooch.com/images/button_template_right.gif\"\" width=\"\"6\"\" height=\"\"18\"\" alt=\"\"\"\"></a></td> </tr> </table><img src=\"\"http://i.bookmooch.com/images/spacer.gif\"\" width=\"\"1\"\" height=\"\"2\"\" alt=\"\"\"\"><br> <table id=\"\"button\"\" height=\"\"18\"\" border=\"\"0\"\" cellpadding=\"\"0\"\" cellspacing=\"\"0\"\"> <tr> <td bgcolor=\"\"#6EB0B1\"\"> <a href=\"\"/recommend?asin=0001049305\"\" title=\"\"recommend this book to someone else\"\"><img border=0 bgcolor=\"\"#6EB0B1\"\" src=\"\"http://i.bookmooch.com/images/button_template_left.gif\"\" width=\"\"5\"\" height=\"\"18\"\" alt=\"\"\"\"></a></td> <td valign=\"\"middle\"\" height=\"\"18\"\" bgcolor=\"\"#6EB0B1\"\"><a STYLE=\"\"text-decoration:none\"\" href=\"\"/recommend?asin=0001049305\"\" title=\"\"recommend this book to someone else\"\"><font face=\"\"Verdana, Arial, utopia, sans-serif\"\" size=2 color=\"\"#FFFFFF\"\"><nobr>RECOMMEND&nbsp;></nobr></font></a></td> <td bgcolor=\"\"#6EB0B1\"\"> <a href=\"\"/recommend?asin=0001049305\"\" title=\"\"recommend this book to someone else\"\"><img border=0 bgcolor=\"\"#6EB0B1\"\" src=\"\"http://i.bookmooch.com/images/button_template_right.gif\"\" width=\"\"6\"\" height=\"\"18\"\" alt=\"\"\"\"></a></td> </tr> </table><img src=\"\"http://i.bookmooch.com/images/spacer.gif\"\" width=\"\"1\"\" height=\"\"2\"\" alt=\"\"\"\"><br> </td></tr></table> </td><td width=10><img src=\"\"http://i.bookmooch.com/images/spacer.gif\"\" width=\"\"10\"\" height=\"\"1\"\" alt=\"\"\"\"></td><td xbgcolor=AAAAAA valign=\"\"top\"\" width=320><link rel=\"\"stylesheet\"\" type=\"\"text/css\"\" href=\"\"http://cache.blogads.com/582081819/feed.css\"\" /><script language=\"\"javascript\"\" src=\"\"http://cache.blogads.com/582081819/feed.js\"\"></script><link rel=\"\"stylesheet\"\" type=\"\"text/css\"\" href=\"\"http://cache.blogads.com/990819385/feed.css\"\" /><script language=\"\"javascript\"\" src=\"\"http://cache.blogads.com/990819385/feed.js\"\"></script><br/></td></tr></table> </td><td><img src=\"\"http://i.bookmooch.com/images/spacer.gif\"\" width=\"\"12\"\" height=\"\"12\"\" alt=\"\"\"\"></td></tr><tr><td></td><td></td></tr></table> <script language=\"\"JavaScript\"\" type=\"\"text/javascript\"\" src=\"\"http://i.bookmooch.com/js/wz_tooltip.js\"\"></script> </body> </html>```"
      ]
    },
    {
      "cell_type": "markdown",
      "metadata": {},
      "source": [
        "### Became"
      ]
    },
    {
      "cell_type": "code",
      "execution_count": 36,
      "metadata": {
        "id": "0xn6XK7UDMVP"
      },
      "outputs": [
        {
          "name": "stdout",
          "output_type": "stream",
          "text": [
            "eric love war eric love war author eric title love war available short walk slowly mediterranean last grain race round low gear box show abridged ancient general eastern front edition format florence history history general history general home front intelligence medieval military naval pearl harbor personal reference renaissance travel travel general western front world war writing binding audio date publisher audio weight size x x edition abridged previous oh previous ca deb description book description made peace summer allied eric among away prison behind went help retreating enemy sheltered three classic memoir selfless people unchanging funny bizarre dangerous local girl later wife exciting story superbly told punch related interest hood freedom available b add save later web related recommend\n"
          ]
        }
      ],
      "source": [
        "print(df.iloc[0].values[0])"
      ]
    },
    {
      "cell_type": "markdown",
      "metadata": {
        "id": "IlSeYg4sDMVQ"
      },
      "source": [
        "# [10 points] Part 2. Duplicates detection. LSH"
      ]
    },
    {
      "cell_type": "markdown",
      "metadata": {
        "id": "ZuMBHSiDDMVR"
      },
      "source": [
        "#### Libraries you can use\n",
        "\n",
        "1. LSH - https://github.com/ekzhu/datasketch\n",
        "1. LSH - https://github.com/mattilyra/LSH\n",
        "1. Any other library on your choise"
      ]
    },
    {
      "cell_type": "markdown",
      "metadata": {
        "id": "uff5aBpgDMVR"
      },
      "source": [
        "1. Detect duplicated text (duplicates do not imply a complete word-to-word match, but texts that may contain a paraphrase, rearrangement of words, sentences)\n",
        "1. Make a plot dependency of duplicates on shingle size (with fixed minhash length) \n",
        "1. Make a plot dependency of duplicates on minhash length (with fixed shingle size)"
      ]
    },
    {
      "cell_type": "code",
      "execution_count": 7,
      "metadata": {
        "id": "QOFZ7AvyDMVS"
      },
      "outputs": [],
      "source": [
        "from datasketch import MinHash, MinHashLSH\n",
        "import math"
      ]
    },
    {
      "cell_type": "code",
      "execution_count": 8,
      "metadata": {
        "id": "HPonm9U3DMVS"
      },
      "outputs": [
        {
          "name": "stdout",
          "output_type": "stream",
          "text": [
            "permutation:  32\n",
            "permutation:  64\n",
            "permutation:  128\n",
            "permutation:  256\n",
            "permutation:  512\n",
            "shinlge:  3\n",
            "shinlge:  4\n",
            "shinlge:  5\n",
            "shinlge:  6\n",
            "shinlge:  7\n"
          ]
        }
      ],
      "source": [
        "def shingle(tokens: str, k: int):\n",
        "    shingles = []\n",
        "    for i in range(len(tokens) - k):\n",
        "        shingles.append(val[i:i+k])\n",
        "    return set(shingles)\n",
        "\n",
        "permutations_list = dict([(32, 0), (64, 0), (128, 0), (256, 0), (512, 0)])\n",
        "shinlge_list =  dict([(3, 0), (4, 0), (5, 0), (6, 0), (7, 0)])\n",
        "\n",
        "for perm in permutations_list:\n",
        "    print(\"permutation: \", perm)\n",
        "    lsh = MinHashLSH(threshold=0.7, num_perm=perm)\n",
        "    n = 0\n",
        "    for index, row in df.iterrows():\n",
        "        # if n == 100: break\n",
        "        val = row.values[0]\n",
        "        val = shingle(val, 5)\n",
        "        # print(val)\n",
        "        m = MinHash(num_perm=perm)\n",
        "        for d in val:\n",
        "            m.update(d.encode('utf8'))\n",
        "        if len(lsh.query(m)) > 0:\n",
        "            permutations_list.update({perm : permutations_list.get(perm) + 1})\n",
        "        lsh.insert(\"m%s\" % n, m)\n",
        "        n += 1\n",
        "\n",
        "for sh in shinlge_list:\n",
        "    print(\"shinlge: \", sh)\n",
        "    lsh = MinHashLSH(threshold=0.7)\n",
        "    n = 0\n",
        "    for index, row in df.iterrows():\n",
        "        # if n == 100: break\n",
        "        val = row.values[0]\n",
        "        val = shingle(val, sh)\n",
        "        m = MinHash()\n",
        "        for d in val:\n",
        "            m.update(d.encode('utf8'))\n",
        "        if len(lsh.query(m)) > 0:\n",
        "            shinlge_list.update({sh : shinlge_list.get(sh) + 1})\n",
        "        lsh.insert(\"m%s\" % n, m)\n",
        "        n += 1\n"
      ]
    },
    {
      "cell_type": "code",
      "execution_count": 33,
      "metadata": {},
      "outputs": [
        {
          "name": "stdout",
          "output_type": "stream",
          "text": [
            "{32: 66007, 64: 64746, 128: 65166, 256: 65160, 512: 64270}\n",
            "{3: 70556, 4: 66557, 5: 65166, 6: 64048, 7: 63591}\n"
          ]
        },
        {
          "data": {
            "application/vnd.plotly.v1+json": {
              "config": {
                "plotlyServerURL": "https://plot.ly"
              },
              "data": [
                {
                  "alignmentgroup": "True",
                  "bingroup": "x",
                  "histfunc": "sum",
                  "hovertemplate": "0=%{x}<br>sum of 1=%{y}<extra></extra>",
                  "legendgroup": "",
                  "marker": {
                    "color": "#636efa",
                    "pattern": {
                      "shape": ""
                    }
                  },
                  "name": "",
                  "offsetgroup": "",
                  "orientation": "v",
                  "showlegend": false,
                  "type": "histogram",
                  "x": [
                    32,
                    64,
                    128,
                    256,
                    512
                  ],
                  "xaxis": "x",
                  "y": [
                    66007,
                    64746,
                    65166,
                    65160,
                    64270
                  ],
                  "yaxis": "y"
                }
              ],
              "layout": {
                "barmode": "relative",
                "legend": {
                  "tracegroupgap": 0
                },
                "margin": {
                  "t": 60
                },
                "template": {
                  "data": {
                    "bar": [
                      {
                        "error_x": {
                          "color": "#2a3f5f"
                        },
                        "error_y": {
                          "color": "#2a3f5f"
                        },
                        "marker": {
                          "line": {
                            "color": "#E5ECF6",
                            "width": 0.5
                          },
                          "pattern": {
                            "fillmode": "overlay",
                            "size": 10,
                            "solidity": 0.2
                          }
                        },
                        "type": "bar"
                      }
                    ],
                    "barpolar": [
                      {
                        "marker": {
                          "line": {
                            "color": "#E5ECF6",
                            "width": 0.5
                          },
                          "pattern": {
                            "fillmode": "overlay",
                            "size": 10,
                            "solidity": 0.2
                          }
                        },
                        "type": "barpolar"
                      }
                    ],
                    "carpet": [
                      {
                        "aaxis": {
                          "endlinecolor": "#2a3f5f",
                          "gridcolor": "white",
                          "linecolor": "white",
                          "minorgridcolor": "white",
                          "startlinecolor": "#2a3f5f"
                        },
                        "baxis": {
                          "endlinecolor": "#2a3f5f",
                          "gridcolor": "white",
                          "linecolor": "white",
                          "minorgridcolor": "white",
                          "startlinecolor": "#2a3f5f"
                        },
                        "type": "carpet"
                      }
                    ],
                    "choropleth": [
                      {
                        "colorbar": {
                          "outlinewidth": 0,
                          "ticks": ""
                        },
                        "type": "choropleth"
                      }
                    ],
                    "contour": [
                      {
                        "colorbar": {
                          "outlinewidth": 0,
                          "ticks": ""
                        },
                        "colorscale": [
                          [
                            0,
                            "#0d0887"
                          ],
                          [
                            0.1111111111111111,
                            "#46039f"
                          ],
                          [
                            0.2222222222222222,
                            "#7201a8"
                          ],
                          [
                            0.3333333333333333,
                            "#9c179e"
                          ],
                          [
                            0.4444444444444444,
                            "#bd3786"
                          ],
                          [
                            0.5555555555555556,
                            "#d8576b"
                          ],
                          [
                            0.6666666666666666,
                            "#ed7953"
                          ],
                          [
                            0.7777777777777778,
                            "#fb9f3a"
                          ],
                          [
                            0.8888888888888888,
                            "#fdca26"
                          ],
                          [
                            1,
                            "#f0f921"
                          ]
                        ],
                        "type": "contour"
                      }
                    ],
                    "contourcarpet": [
                      {
                        "colorbar": {
                          "outlinewidth": 0,
                          "ticks": ""
                        },
                        "type": "contourcarpet"
                      }
                    ],
                    "heatmap": [
                      {
                        "colorbar": {
                          "outlinewidth": 0,
                          "ticks": ""
                        },
                        "colorscale": [
                          [
                            0,
                            "#0d0887"
                          ],
                          [
                            0.1111111111111111,
                            "#46039f"
                          ],
                          [
                            0.2222222222222222,
                            "#7201a8"
                          ],
                          [
                            0.3333333333333333,
                            "#9c179e"
                          ],
                          [
                            0.4444444444444444,
                            "#bd3786"
                          ],
                          [
                            0.5555555555555556,
                            "#d8576b"
                          ],
                          [
                            0.6666666666666666,
                            "#ed7953"
                          ],
                          [
                            0.7777777777777778,
                            "#fb9f3a"
                          ],
                          [
                            0.8888888888888888,
                            "#fdca26"
                          ],
                          [
                            1,
                            "#f0f921"
                          ]
                        ],
                        "type": "heatmap"
                      }
                    ],
                    "heatmapgl": [
                      {
                        "colorbar": {
                          "outlinewidth": 0,
                          "ticks": ""
                        },
                        "colorscale": [
                          [
                            0,
                            "#0d0887"
                          ],
                          [
                            0.1111111111111111,
                            "#46039f"
                          ],
                          [
                            0.2222222222222222,
                            "#7201a8"
                          ],
                          [
                            0.3333333333333333,
                            "#9c179e"
                          ],
                          [
                            0.4444444444444444,
                            "#bd3786"
                          ],
                          [
                            0.5555555555555556,
                            "#d8576b"
                          ],
                          [
                            0.6666666666666666,
                            "#ed7953"
                          ],
                          [
                            0.7777777777777778,
                            "#fb9f3a"
                          ],
                          [
                            0.8888888888888888,
                            "#fdca26"
                          ],
                          [
                            1,
                            "#f0f921"
                          ]
                        ],
                        "type": "heatmapgl"
                      }
                    ],
                    "histogram": [
                      {
                        "marker": {
                          "pattern": {
                            "fillmode": "overlay",
                            "size": 10,
                            "solidity": 0.2
                          }
                        },
                        "type": "histogram"
                      }
                    ],
                    "histogram2d": [
                      {
                        "colorbar": {
                          "outlinewidth": 0,
                          "ticks": ""
                        },
                        "colorscale": [
                          [
                            0,
                            "#0d0887"
                          ],
                          [
                            0.1111111111111111,
                            "#46039f"
                          ],
                          [
                            0.2222222222222222,
                            "#7201a8"
                          ],
                          [
                            0.3333333333333333,
                            "#9c179e"
                          ],
                          [
                            0.4444444444444444,
                            "#bd3786"
                          ],
                          [
                            0.5555555555555556,
                            "#d8576b"
                          ],
                          [
                            0.6666666666666666,
                            "#ed7953"
                          ],
                          [
                            0.7777777777777778,
                            "#fb9f3a"
                          ],
                          [
                            0.8888888888888888,
                            "#fdca26"
                          ],
                          [
                            1,
                            "#f0f921"
                          ]
                        ],
                        "type": "histogram2d"
                      }
                    ],
                    "histogram2dcontour": [
                      {
                        "colorbar": {
                          "outlinewidth": 0,
                          "ticks": ""
                        },
                        "colorscale": [
                          [
                            0,
                            "#0d0887"
                          ],
                          [
                            0.1111111111111111,
                            "#46039f"
                          ],
                          [
                            0.2222222222222222,
                            "#7201a8"
                          ],
                          [
                            0.3333333333333333,
                            "#9c179e"
                          ],
                          [
                            0.4444444444444444,
                            "#bd3786"
                          ],
                          [
                            0.5555555555555556,
                            "#d8576b"
                          ],
                          [
                            0.6666666666666666,
                            "#ed7953"
                          ],
                          [
                            0.7777777777777778,
                            "#fb9f3a"
                          ],
                          [
                            0.8888888888888888,
                            "#fdca26"
                          ],
                          [
                            1,
                            "#f0f921"
                          ]
                        ],
                        "type": "histogram2dcontour"
                      }
                    ],
                    "mesh3d": [
                      {
                        "colorbar": {
                          "outlinewidth": 0,
                          "ticks": ""
                        },
                        "type": "mesh3d"
                      }
                    ],
                    "parcoords": [
                      {
                        "line": {
                          "colorbar": {
                            "outlinewidth": 0,
                            "ticks": ""
                          }
                        },
                        "type": "parcoords"
                      }
                    ],
                    "pie": [
                      {
                        "automargin": true,
                        "type": "pie"
                      }
                    ],
                    "scatter": [
                      {
                        "marker": {
                          "colorbar": {
                            "outlinewidth": 0,
                            "ticks": ""
                          }
                        },
                        "type": "scatter"
                      }
                    ],
                    "scatter3d": [
                      {
                        "line": {
                          "colorbar": {
                            "outlinewidth": 0,
                            "ticks": ""
                          }
                        },
                        "marker": {
                          "colorbar": {
                            "outlinewidth": 0,
                            "ticks": ""
                          }
                        },
                        "type": "scatter3d"
                      }
                    ],
                    "scattercarpet": [
                      {
                        "marker": {
                          "colorbar": {
                            "outlinewidth": 0,
                            "ticks": ""
                          }
                        },
                        "type": "scattercarpet"
                      }
                    ],
                    "scattergeo": [
                      {
                        "marker": {
                          "colorbar": {
                            "outlinewidth": 0,
                            "ticks": ""
                          }
                        },
                        "type": "scattergeo"
                      }
                    ],
                    "scattergl": [
                      {
                        "marker": {
                          "colorbar": {
                            "outlinewidth": 0,
                            "ticks": ""
                          }
                        },
                        "type": "scattergl"
                      }
                    ],
                    "scattermapbox": [
                      {
                        "marker": {
                          "colorbar": {
                            "outlinewidth": 0,
                            "ticks": ""
                          }
                        },
                        "type": "scattermapbox"
                      }
                    ],
                    "scatterpolar": [
                      {
                        "marker": {
                          "colorbar": {
                            "outlinewidth": 0,
                            "ticks": ""
                          }
                        },
                        "type": "scatterpolar"
                      }
                    ],
                    "scatterpolargl": [
                      {
                        "marker": {
                          "colorbar": {
                            "outlinewidth": 0,
                            "ticks": ""
                          }
                        },
                        "type": "scatterpolargl"
                      }
                    ],
                    "scatterternary": [
                      {
                        "marker": {
                          "colorbar": {
                            "outlinewidth": 0,
                            "ticks": ""
                          }
                        },
                        "type": "scatterternary"
                      }
                    ],
                    "surface": [
                      {
                        "colorbar": {
                          "outlinewidth": 0,
                          "ticks": ""
                        },
                        "colorscale": [
                          [
                            0,
                            "#0d0887"
                          ],
                          [
                            0.1111111111111111,
                            "#46039f"
                          ],
                          [
                            0.2222222222222222,
                            "#7201a8"
                          ],
                          [
                            0.3333333333333333,
                            "#9c179e"
                          ],
                          [
                            0.4444444444444444,
                            "#bd3786"
                          ],
                          [
                            0.5555555555555556,
                            "#d8576b"
                          ],
                          [
                            0.6666666666666666,
                            "#ed7953"
                          ],
                          [
                            0.7777777777777778,
                            "#fb9f3a"
                          ],
                          [
                            0.8888888888888888,
                            "#fdca26"
                          ],
                          [
                            1,
                            "#f0f921"
                          ]
                        ],
                        "type": "surface"
                      }
                    ],
                    "table": [
                      {
                        "cells": {
                          "fill": {
                            "color": "#EBF0F8"
                          },
                          "line": {
                            "color": "white"
                          }
                        },
                        "header": {
                          "fill": {
                            "color": "#C8D4E3"
                          },
                          "line": {
                            "color": "white"
                          }
                        },
                        "type": "table"
                      }
                    ]
                  },
                  "layout": {
                    "annotationdefaults": {
                      "arrowcolor": "#2a3f5f",
                      "arrowhead": 0,
                      "arrowwidth": 1
                    },
                    "autotypenumbers": "strict",
                    "coloraxis": {
                      "colorbar": {
                        "outlinewidth": 0,
                        "ticks": ""
                      }
                    },
                    "colorscale": {
                      "diverging": [
                        [
                          0,
                          "#8e0152"
                        ],
                        [
                          0.1,
                          "#c51b7d"
                        ],
                        [
                          0.2,
                          "#de77ae"
                        ],
                        [
                          0.3,
                          "#f1b6da"
                        ],
                        [
                          0.4,
                          "#fde0ef"
                        ],
                        [
                          0.5,
                          "#f7f7f7"
                        ],
                        [
                          0.6,
                          "#e6f5d0"
                        ],
                        [
                          0.7,
                          "#b8e186"
                        ],
                        [
                          0.8,
                          "#7fbc41"
                        ],
                        [
                          0.9,
                          "#4d9221"
                        ],
                        [
                          1,
                          "#276419"
                        ]
                      ],
                      "sequential": [
                        [
                          0,
                          "#0d0887"
                        ],
                        [
                          0.1111111111111111,
                          "#46039f"
                        ],
                        [
                          0.2222222222222222,
                          "#7201a8"
                        ],
                        [
                          0.3333333333333333,
                          "#9c179e"
                        ],
                        [
                          0.4444444444444444,
                          "#bd3786"
                        ],
                        [
                          0.5555555555555556,
                          "#d8576b"
                        ],
                        [
                          0.6666666666666666,
                          "#ed7953"
                        ],
                        [
                          0.7777777777777778,
                          "#fb9f3a"
                        ],
                        [
                          0.8888888888888888,
                          "#fdca26"
                        ],
                        [
                          1,
                          "#f0f921"
                        ]
                      ],
                      "sequentialminus": [
                        [
                          0,
                          "#0d0887"
                        ],
                        [
                          0.1111111111111111,
                          "#46039f"
                        ],
                        [
                          0.2222222222222222,
                          "#7201a8"
                        ],
                        [
                          0.3333333333333333,
                          "#9c179e"
                        ],
                        [
                          0.4444444444444444,
                          "#bd3786"
                        ],
                        [
                          0.5555555555555556,
                          "#d8576b"
                        ],
                        [
                          0.6666666666666666,
                          "#ed7953"
                        ],
                        [
                          0.7777777777777778,
                          "#fb9f3a"
                        ],
                        [
                          0.8888888888888888,
                          "#fdca26"
                        ],
                        [
                          1,
                          "#f0f921"
                        ]
                      ]
                    },
                    "colorway": [
                      "#636efa",
                      "#EF553B",
                      "#00cc96",
                      "#ab63fa",
                      "#FFA15A",
                      "#19d3f3",
                      "#FF6692",
                      "#B6E880",
                      "#FF97FF",
                      "#FECB52"
                    ],
                    "font": {
                      "color": "#2a3f5f"
                    },
                    "geo": {
                      "bgcolor": "white",
                      "lakecolor": "white",
                      "landcolor": "#E5ECF6",
                      "showlakes": true,
                      "showland": true,
                      "subunitcolor": "white"
                    },
                    "hoverlabel": {
                      "align": "left"
                    },
                    "hovermode": "closest",
                    "mapbox": {
                      "style": "light"
                    },
                    "paper_bgcolor": "white",
                    "plot_bgcolor": "#E5ECF6",
                    "polar": {
                      "angularaxis": {
                        "gridcolor": "white",
                        "linecolor": "white",
                        "ticks": ""
                      },
                      "bgcolor": "#E5ECF6",
                      "radialaxis": {
                        "gridcolor": "white",
                        "linecolor": "white",
                        "ticks": ""
                      }
                    },
                    "scene": {
                      "xaxis": {
                        "backgroundcolor": "#E5ECF6",
                        "gridcolor": "white",
                        "gridwidth": 2,
                        "linecolor": "white",
                        "showbackground": true,
                        "ticks": "",
                        "zerolinecolor": "white"
                      },
                      "yaxis": {
                        "backgroundcolor": "#E5ECF6",
                        "gridcolor": "white",
                        "gridwidth": 2,
                        "linecolor": "white",
                        "showbackground": true,
                        "ticks": "",
                        "zerolinecolor": "white"
                      },
                      "zaxis": {
                        "backgroundcolor": "#E5ECF6",
                        "gridcolor": "white",
                        "gridwidth": 2,
                        "linecolor": "white",
                        "showbackground": true,
                        "ticks": "",
                        "zerolinecolor": "white"
                      }
                    },
                    "shapedefaults": {
                      "line": {
                        "color": "#2a3f5f"
                      }
                    },
                    "ternary": {
                      "aaxis": {
                        "gridcolor": "white",
                        "linecolor": "white",
                        "ticks": ""
                      },
                      "baxis": {
                        "gridcolor": "white",
                        "linecolor": "white",
                        "ticks": ""
                      },
                      "bgcolor": "#E5ECF6",
                      "caxis": {
                        "gridcolor": "white",
                        "linecolor": "white",
                        "ticks": ""
                      }
                    },
                    "title": {
                      "x": 0.05
                    },
                    "xaxis": {
                      "automargin": true,
                      "gridcolor": "white",
                      "linecolor": "white",
                      "ticks": "",
                      "title": {
                        "standoff": 15
                      },
                      "zerolinecolor": "white",
                      "zerolinewidth": 2
                    },
                    "yaxis": {
                      "automargin": true,
                      "gridcolor": "white",
                      "linecolor": "white",
                      "ticks": "",
                      "title": {
                        "standoff": 15
                      },
                      "zerolinecolor": "white",
                      "zerolinewidth": 2
                    }
                  }
                },
                "xaxis": {
                  "anchor": "y",
                  "domain": [
                    0,
                    1
                  ],
                  "title": {
                    "text": "Minhash length"
                  },
                  "type": "category"
                },
                "yaxis": {
                  "anchor": "x",
                  "domain": [
                    0,
                    1
                  ],
                  "title": {
                    "text": "Duplicates"
                  }
                }
              }
            }
          },
          "metadata": {},
          "output_type": "display_data"
        },
        {
          "data": {
            "application/vnd.plotly.v1+json": {
              "config": {
                "plotlyServerURL": "https://plot.ly"
              },
              "data": [
                {
                  "alignmentgroup": "True",
                  "bingroup": "x",
                  "histfunc": "sum",
                  "hovertemplate": "0=%{x}<br>sum of 1=%{y}<extra></extra>",
                  "legendgroup": "",
                  "marker": {
                    "color": "#636efa",
                    "pattern": {
                      "shape": ""
                    }
                  },
                  "name": "",
                  "offsetgroup": "",
                  "orientation": "v",
                  "showlegend": false,
                  "type": "histogram",
                  "x": [
                    3,
                    4,
                    5,
                    6,
                    7
                  ],
                  "xaxis": "x",
                  "y": [
                    70556,
                    66557,
                    65166,
                    64048,
                    63591
                  ],
                  "yaxis": "y"
                }
              ],
              "layout": {
                "barmode": "relative",
                "legend": {
                  "tracegroupgap": 0
                },
                "margin": {
                  "t": 60
                },
                "template": {
                  "data": {
                    "bar": [
                      {
                        "error_x": {
                          "color": "#2a3f5f"
                        },
                        "error_y": {
                          "color": "#2a3f5f"
                        },
                        "marker": {
                          "line": {
                            "color": "#E5ECF6",
                            "width": 0.5
                          },
                          "pattern": {
                            "fillmode": "overlay",
                            "size": 10,
                            "solidity": 0.2
                          }
                        },
                        "type": "bar"
                      }
                    ],
                    "barpolar": [
                      {
                        "marker": {
                          "line": {
                            "color": "#E5ECF6",
                            "width": 0.5
                          },
                          "pattern": {
                            "fillmode": "overlay",
                            "size": 10,
                            "solidity": 0.2
                          }
                        },
                        "type": "barpolar"
                      }
                    ],
                    "carpet": [
                      {
                        "aaxis": {
                          "endlinecolor": "#2a3f5f",
                          "gridcolor": "white",
                          "linecolor": "white",
                          "minorgridcolor": "white",
                          "startlinecolor": "#2a3f5f"
                        },
                        "baxis": {
                          "endlinecolor": "#2a3f5f",
                          "gridcolor": "white",
                          "linecolor": "white",
                          "minorgridcolor": "white",
                          "startlinecolor": "#2a3f5f"
                        },
                        "type": "carpet"
                      }
                    ],
                    "choropleth": [
                      {
                        "colorbar": {
                          "outlinewidth": 0,
                          "ticks": ""
                        },
                        "type": "choropleth"
                      }
                    ],
                    "contour": [
                      {
                        "colorbar": {
                          "outlinewidth": 0,
                          "ticks": ""
                        },
                        "colorscale": [
                          [
                            0,
                            "#0d0887"
                          ],
                          [
                            0.1111111111111111,
                            "#46039f"
                          ],
                          [
                            0.2222222222222222,
                            "#7201a8"
                          ],
                          [
                            0.3333333333333333,
                            "#9c179e"
                          ],
                          [
                            0.4444444444444444,
                            "#bd3786"
                          ],
                          [
                            0.5555555555555556,
                            "#d8576b"
                          ],
                          [
                            0.6666666666666666,
                            "#ed7953"
                          ],
                          [
                            0.7777777777777778,
                            "#fb9f3a"
                          ],
                          [
                            0.8888888888888888,
                            "#fdca26"
                          ],
                          [
                            1,
                            "#f0f921"
                          ]
                        ],
                        "type": "contour"
                      }
                    ],
                    "contourcarpet": [
                      {
                        "colorbar": {
                          "outlinewidth": 0,
                          "ticks": ""
                        },
                        "type": "contourcarpet"
                      }
                    ],
                    "heatmap": [
                      {
                        "colorbar": {
                          "outlinewidth": 0,
                          "ticks": ""
                        },
                        "colorscale": [
                          [
                            0,
                            "#0d0887"
                          ],
                          [
                            0.1111111111111111,
                            "#46039f"
                          ],
                          [
                            0.2222222222222222,
                            "#7201a8"
                          ],
                          [
                            0.3333333333333333,
                            "#9c179e"
                          ],
                          [
                            0.4444444444444444,
                            "#bd3786"
                          ],
                          [
                            0.5555555555555556,
                            "#d8576b"
                          ],
                          [
                            0.6666666666666666,
                            "#ed7953"
                          ],
                          [
                            0.7777777777777778,
                            "#fb9f3a"
                          ],
                          [
                            0.8888888888888888,
                            "#fdca26"
                          ],
                          [
                            1,
                            "#f0f921"
                          ]
                        ],
                        "type": "heatmap"
                      }
                    ],
                    "heatmapgl": [
                      {
                        "colorbar": {
                          "outlinewidth": 0,
                          "ticks": ""
                        },
                        "colorscale": [
                          [
                            0,
                            "#0d0887"
                          ],
                          [
                            0.1111111111111111,
                            "#46039f"
                          ],
                          [
                            0.2222222222222222,
                            "#7201a8"
                          ],
                          [
                            0.3333333333333333,
                            "#9c179e"
                          ],
                          [
                            0.4444444444444444,
                            "#bd3786"
                          ],
                          [
                            0.5555555555555556,
                            "#d8576b"
                          ],
                          [
                            0.6666666666666666,
                            "#ed7953"
                          ],
                          [
                            0.7777777777777778,
                            "#fb9f3a"
                          ],
                          [
                            0.8888888888888888,
                            "#fdca26"
                          ],
                          [
                            1,
                            "#f0f921"
                          ]
                        ],
                        "type": "heatmapgl"
                      }
                    ],
                    "histogram": [
                      {
                        "marker": {
                          "pattern": {
                            "fillmode": "overlay",
                            "size": 10,
                            "solidity": 0.2
                          }
                        },
                        "type": "histogram"
                      }
                    ],
                    "histogram2d": [
                      {
                        "colorbar": {
                          "outlinewidth": 0,
                          "ticks": ""
                        },
                        "colorscale": [
                          [
                            0,
                            "#0d0887"
                          ],
                          [
                            0.1111111111111111,
                            "#46039f"
                          ],
                          [
                            0.2222222222222222,
                            "#7201a8"
                          ],
                          [
                            0.3333333333333333,
                            "#9c179e"
                          ],
                          [
                            0.4444444444444444,
                            "#bd3786"
                          ],
                          [
                            0.5555555555555556,
                            "#d8576b"
                          ],
                          [
                            0.6666666666666666,
                            "#ed7953"
                          ],
                          [
                            0.7777777777777778,
                            "#fb9f3a"
                          ],
                          [
                            0.8888888888888888,
                            "#fdca26"
                          ],
                          [
                            1,
                            "#f0f921"
                          ]
                        ],
                        "type": "histogram2d"
                      }
                    ],
                    "histogram2dcontour": [
                      {
                        "colorbar": {
                          "outlinewidth": 0,
                          "ticks": ""
                        },
                        "colorscale": [
                          [
                            0,
                            "#0d0887"
                          ],
                          [
                            0.1111111111111111,
                            "#46039f"
                          ],
                          [
                            0.2222222222222222,
                            "#7201a8"
                          ],
                          [
                            0.3333333333333333,
                            "#9c179e"
                          ],
                          [
                            0.4444444444444444,
                            "#bd3786"
                          ],
                          [
                            0.5555555555555556,
                            "#d8576b"
                          ],
                          [
                            0.6666666666666666,
                            "#ed7953"
                          ],
                          [
                            0.7777777777777778,
                            "#fb9f3a"
                          ],
                          [
                            0.8888888888888888,
                            "#fdca26"
                          ],
                          [
                            1,
                            "#f0f921"
                          ]
                        ],
                        "type": "histogram2dcontour"
                      }
                    ],
                    "mesh3d": [
                      {
                        "colorbar": {
                          "outlinewidth": 0,
                          "ticks": ""
                        },
                        "type": "mesh3d"
                      }
                    ],
                    "parcoords": [
                      {
                        "line": {
                          "colorbar": {
                            "outlinewidth": 0,
                            "ticks": ""
                          }
                        },
                        "type": "parcoords"
                      }
                    ],
                    "pie": [
                      {
                        "automargin": true,
                        "type": "pie"
                      }
                    ],
                    "scatter": [
                      {
                        "marker": {
                          "colorbar": {
                            "outlinewidth": 0,
                            "ticks": ""
                          }
                        },
                        "type": "scatter"
                      }
                    ],
                    "scatter3d": [
                      {
                        "line": {
                          "colorbar": {
                            "outlinewidth": 0,
                            "ticks": ""
                          }
                        },
                        "marker": {
                          "colorbar": {
                            "outlinewidth": 0,
                            "ticks": ""
                          }
                        },
                        "type": "scatter3d"
                      }
                    ],
                    "scattercarpet": [
                      {
                        "marker": {
                          "colorbar": {
                            "outlinewidth": 0,
                            "ticks": ""
                          }
                        },
                        "type": "scattercarpet"
                      }
                    ],
                    "scattergeo": [
                      {
                        "marker": {
                          "colorbar": {
                            "outlinewidth": 0,
                            "ticks": ""
                          }
                        },
                        "type": "scattergeo"
                      }
                    ],
                    "scattergl": [
                      {
                        "marker": {
                          "colorbar": {
                            "outlinewidth": 0,
                            "ticks": ""
                          }
                        },
                        "type": "scattergl"
                      }
                    ],
                    "scattermapbox": [
                      {
                        "marker": {
                          "colorbar": {
                            "outlinewidth": 0,
                            "ticks": ""
                          }
                        },
                        "type": "scattermapbox"
                      }
                    ],
                    "scatterpolar": [
                      {
                        "marker": {
                          "colorbar": {
                            "outlinewidth": 0,
                            "ticks": ""
                          }
                        },
                        "type": "scatterpolar"
                      }
                    ],
                    "scatterpolargl": [
                      {
                        "marker": {
                          "colorbar": {
                            "outlinewidth": 0,
                            "ticks": ""
                          }
                        },
                        "type": "scatterpolargl"
                      }
                    ],
                    "scatterternary": [
                      {
                        "marker": {
                          "colorbar": {
                            "outlinewidth": 0,
                            "ticks": ""
                          }
                        },
                        "type": "scatterternary"
                      }
                    ],
                    "surface": [
                      {
                        "colorbar": {
                          "outlinewidth": 0,
                          "ticks": ""
                        },
                        "colorscale": [
                          [
                            0,
                            "#0d0887"
                          ],
                          [
                            0.1111111111111111,
                            "#46039f"
                          ],
                          [
                            0.2222222222222222,
                            "#7201a8"
                          ],
                          [
                            0.3333333333333333,
                            "#9c179e"
                          ],
                          [
                            0.4444444444444444,
                            "#bd3786"
                          ],
                          [
                            0.5555555555555556,
                            "#d8576b"
                          ],
                          [
                            0.6666666666666666,
                            "#ed7953"
                          ],
                          [
                            0.7777777777777778,
                            "#fb9f3a"
                          ],
                          [
                            0.8888888888888888,
                            "#fdca26"
                          ],
                          [
                            1,
                            "#f0f921"
                          ]
                        ],
                        "type": "surface"
                      }
                    ],
                    "table": [
                      {
                        "cells": {
                          "fill": {
                            "color": "#EBF0F8"
                          },
                          "line": {
                            "color": "white"
                          }
                        },
                        "header": {
                          "fill": {
                            "color": "#C8D4E3"
                          },
                          "line": {
                            "color": "white"
                          }
                        },
                        "type": "table"
                      }
                    ]
                  },
                  "layout": {
                    "annotationdefaults": {
                      "arrowcolor": "#2a3f5f",
                      "arrowhead": 0,
                      "arrowwidth": 1
                    },
                    "autotypenumbers": "strict",
                    "coloraxis": {
                      "colorbar": {
                        "outlinewidth": 0,
                        "ticks": ""
                      }
                    },
                    "colorscale": {
                      "diverging": [
                        [
                          0,
                          "#8e0152"
                        ],
                        [
                          0.1,
                          "#c51b7d"
                        ],
                        [
                          0.2,
                          "#de77ae"
                        ],
                        [
                          0.3,
                          "#f1b6da"
                        ],
                        [
                          0.4,
                          "#fde0ef"
                        ],
                        [
                          0.5,
                          "#f7f7f7"
                        ],
                        [
                          0.6,
                          "#e6f5d0"
                        ],
                        [
                          0.7,
                          "#b8e186"
                        ],
                        [
                          0.8,
                          "#7fbc41"
                        ],
                        [
                          0.9,
                          "#4d9221"
                        ],
                        [
                          1,
                          "#276419"
                        ]
                      ],
                      "sequential": [
                        [
                          0,
                          "#0d0887"
                        ],
                        [
                          0.1111111111111111,
                          "#46039f"
                        ],
                        [
                          0.2222222222222222,
                          "#7201a8"
                        ],
                        [
                          0.3333333333333333,
                          "#9c179e"
                        ],
                        [
                          0.4444444444444444,
                          "#bd3786"
                        ],
                        [
                          0.5555555555555556,
                          "#d8576b"
                        ],
                        [
                          0.6666666666666666,
                          "#ed7953"
                        ],
                        [
                          0.7777777777777778,
                          "#fb9f3a"
                        ],
                        [
                          0.8888888888888888,
                          "#fdca26"
                        ],
                        [
                          1,
                          "#f0f921"
                        ]
                      ],
                      "sequentialminus": [
                        [
                          0,
                          "#0d0887"
                        ],
                        [
                          0.1111111111111111,
                          "#46039f"
                        ],
                        [
                          0.2222222222222222,
                          "#7201a8"
                        ],
                        [
                          0.3333333333333333,
                          "#9c179e"
                        ],
                        [
                          0.4444444444444444,
                          "#bd3786"
                        ],
                        [
                          0.5555555555555556,
                          "#d8576b"
                        ],
                        [
                          0.6666666666666666,
                          "#ed7953"
                        ],
                        [
                          0.7777777777777778,
                          "#fb9f3a"
                        ],
                        [
                          0.8888888888888888,
                          "#fdca26"
                        ],
                        [
                          1,
                          "#f0f921"
                        ]
                      ]
                    },
                    "colorway": [
                      "#636efa",
                      "#EF553B",
                      "#00cc96",
                      "#ab63fa",
                      "#FFA15A",
                      "#19d3f3",
                      "#FF6692",
                      "#B6E880",
                      "#FF97FF",
                      "#FECB52"
                    ],
                    "font": {
                      "color": "#2a3f5f"
                    },
                    "geo": {
                      "bgcolor": "white",
                      "lakecolor": "white",
                      "landcolor": "#E5ECF6",
                      "showlakes": true,
                      "showland": true,
                      "subunitcolor": "white"
                    },
                    "hoverlabel": {
                      "align": "left"
                    },
                    "hovermode": "closest",
                    "mapbox": {
                      "style": "light"
                    },
                    "paper_bgcolor": "white",
                    "plot_bgcolor": "#E5ECF6",
                    "polar": {
                      "angularaxis": {
                        "gridcolor": "white",
                        "linecolor": "white",
                        "ticks": ""
                      },
                      "bgcolor": "#E5ECF6",
                      "radialaxis": {
                        "gridcolor": "white",
                        "linecolor": "white",
                        "ticks": ""
                      }
                    },
                    "scene": {
                      "xaxis": {
                        "backgroundcolor": "#E5ECF6",
                        "gridcolor": "white",
                        "gridwidth": 2,
                        "linecolor": "white",
                        "showbackground": true,
                        "ticks": "",
                        "zerolinecolor": "white"
                      },
                      "yaxis": {
                        "backgroundcolor": "#E5ECF6",
                        "gridcolor": "white",
                        "gridwidth": 2,
                        "linecolor": "white",
                        "showbackground": true,
                        "ticks": "",
                        "zerolinecolor": "white"
                      },
                      "zaxis": {
                        "backgroundcolor": "#E5ECF6",
                        "gridcolor": "white",
                        "gridwidth": 2,
                        "linecolor": "white",
                        "showbackground": true,
                        "ticks": "",
                        "zerolinecolor": "white"
                      }
                    },
                    "shapedefaults": {
                      "line": {
                        "color": "#2a3f5f"
                      }
                    },
                    "ternary": {
                      "aaxis": {
                        "gridcolor": "white",
                        "linecolor": "white",
                        "ticks": ""
                      },
                      "baxis": {
                        "gridcolor": "white",
                        "linecolor": "white",
                        "ticks": ""
                      },
                      "bgcolor": "#E5ECF6",
                      "caxis": {
                        "gridcolor": "white",
                        "linecolor": "white",
                        "ticks": ""
                      }
                    },
                    "title": {
                      "x": 0.05
                    },
                    "xaxis": {
                      "automargin": true,
                      "gridcolor": "white",
                      "linecolor": "white",
                      "ticks": "",
                      "title": {
                        "standoff": 15
                      },
                      "zerolinecolor": "white",
                      "zerolinewidth": 2
                    },
                    "yaxis": {
                      "automargin": true,
                      "gridcolor": "white",
                      "linecolor": "white",
                      "ticks": "",
                      "title": {
                        "standoff": 15
                      },
                      "zerolinecolor": "white",
                      "zerolinewidth": 2
                    }
                  }
                },
                "xaxis": {
                  "anchor": "y",
                  "domain": [
                    0,
                    1
                  ],
                  "title": {
                    "text": "Shingle size"
                  },
                  "type": "category"
                },
                "yaxis": {
                  "anchor": "x",
                  "domain": [
                    0,
                    1
                  ],
                  "title": {
                    "text": "Duplicates"
                  }
                }
              }
            }
          },
          "metadata": {},
          "output_type": "display_data"
        }
      ],
      "source": [
        "print(permutations_list)\n",
        "print(shinlge_list)\n",
        "\n",
        "perm_df = pd.DataFrame.from_dict(permutations_list.items())\n",
        "fig = px.histogram(perm_df, x=0, y=1)\n",
        "fig.update_xaxes(type='category', title='Minhash length')\n",
        "fig.update_yaxes(title='Duplicates')\n",
        "fig.show()\n",
        "\n",
        "sh_df = pd.DataFrame.from_dict(shinlge_list.items())\n",
        "fig = px.histogram(sh_df, x=0, y=1)\n",
        "fig.update_xaxes(type='category', title='Shingle size')\n",
        "fig.update_yaxes(title='Duplicates')\n",
        "fig.show()"
      ]
    },
    {
      "cell_type": "markdown",
      "metadata": {
        "id": "njdTa1daDMVS"
      },
      "source": [
        "# [Optional 10 points] Part 3. Topic model"
      ]
    },
    {
      "cell_type": "markdown",
      "metadata": {
        "id": "4BwJNkn2DMVT"
      },
      "source": [
        "In this part you will learn how to do topic modeling with common tools and assess the resulting quality of the models. "
      ]
    },
    {
      "cell_type": "code",
      "execution_count": null,
      "metadata": {
        "id": "l0WcLMhHDMVT"
      },
      "outputs": [],
      "source": []
    },
    {
      "cell_type": "markdown",
      "metadata": {
        "id": "WkNFzxqPDMVU"
      },
      "source": [
        "The provided data contain chunked stories by Edgar Allan Poe (EAP), Mary Shelley (MWS), and HP Lovecraft (HPL).\n",
        "\n",
        "The dataset can be downloaded here: `https://drive.google.com/file/d/14tAjAzHr6UmFVFV7ABTyNHBh-dWHAaLH/view?usp=sharing`"
      ]
    },
    {
      "cell_type": "markdown",
      "metadata": {
        "id": "5BNIa1miDMVU"
      },
      "source": [
        "#### Preprocess dataset with the functions from the Part 1"
      ]
    },
    {
      "cell_type": "code",
      "execution_count": null,
      "metadata": {
        "id": "9B8PZNRyDMVV"
      },
      "outputs": [],
      "source": []
    },
    {
      "cell_type": "markdown",
      "metadata": {
        "id": "qKU2D29CDMVV"
      },
      "source": [
        "#### Quality estimation"
      ]
    },
    {
      "cell_type": "markdown",
      "metadata": {
        "id": "l6xfd3vpDMVW"
      },
      "source": [
        "Implement the following three quality fuctions: `coherence` (or `tf-idf coherence`), `normalized PMI`, `based on the distributed word representation`(you can use pretrained w2v vectors or some other model). You are free to use any libraries (for instance gensim) and components."
      ]
    },
    {
      "cell_type": "code",
      "execution_count": null,
      "metadata": {
        "id": "AEtv-gWcDMVW"
      },
      "outputs": [],
      "source": []
    },
    {
      "cell_type": "markdown",
      "metadata": {
        "id": "Kp1jTJmPDMVX"
      },
      "source": [
        "### Topic modeling"
      ]
    },
    {
      "cell_type": "markdown",
      "metadata": {
        "id": "lgbVtgphDMVX"
      },
      "source": [
        "Read and preprocess the dataset, divide it into train and test parts `sklearn.model_selection.train_test_split`. Test part will be used in classification part. For simplicity we do not perform cross-validation here, but you should remember about it."
      ]
    },
    {
      "cell_type": "code",
      "execution_count": null,
      "metadata": {
        "id": "_Uh0J_C8DMVY"
      },
      "outputs": [],
      "source": []
    },
    {
      "cell_type": "markdown",
      "metadata": {
        "id": "rNepVz1wDMVY"
      },
      "source": [
        "Plot the histogram of resulting tokens counts in the processed datasets."
      ]
    },
    {
      "cell_type": "code",
      "execution_count": null,
      "metadata": {
        "id": "L_7JVEfbDMVZ"
      },
      "outputs": [],
      "source": []
    },
    {
      "cell_type": "markdown",
      "metadata": {
        "id": "ulOjNL9vDMVZ"
      },
      "source": [
        "Plot the histogram of resulting tokens counts in the processed datasets."
      ]
    },
    {
      "cell_type": "code",
      "execution_count": null,
      "metadata": {
        "id": "HAse0LBvDMVa"
      },
      "outputs": [],
      "source": []
    },
    {
      "cell_type": "markdown",
      "metadata": {
        "id": "4N86AaGNDMVa"
      },
      "source": [
        "#### NMF"
      ]
    },
    {
      "cell_type": "markdown",
      "metadata": {
        "id": "kPelcAFQDMVa"
      },
      "source": [
        "Implement topic modeling with NMF (you can use `sklearn.decomposition.NMF`) and print out resulting topics. Try to change hyperparameters to better fit the dataset."
      ]
    },
    {
      "cell_type": "code",
      "execution_count": null,
      "metadata": {
        "id": "DCPzCMMMDMVa"
      },
      "outputs": [],
      "source": []
    },
    {
      "cell_type": "markdown",
      "metadata": {
        "id": "zuaKAGIWDMVb"
      },
      "source": [
        "#### LDA"
      ]
    },
    {
      "cell_type": "markdown",
      "metadata": {
        "id": "PAK_MfQxDMVb"
      },
      "source": [
        "Implement topic modeling with LDA (you can use gensim implementation) and print out resulting topics. Try to change hyperparameters to better fit the dataset."
      ]
    },
    {
      "cell_type": "code",
      "execution_count": null,
      "metadata": {
        "id": "fdzopuCJDMVb"
      },
      "outputs": [],
      "source": []
    },
    {
      "cell_type": "markdown",
      "metadata": {
        "id": "vSF6fq0NDMVc"
      },
      "source": [
        "### Additive regularization of topic models "
      ]
    },
    {
      "cell_type": "markdown",
      "metadata": {
        "id": "tVcA4itQDMVc"
      },
      "source": [
        "Implement topic modeling with ARTM. You may use bigartm library (simple installation for linux: pip install bigartm) or TopicNet framework (`https://github.com/machine-intelligence-laboratory/TopicNet`)"
      ]
    },
    {
      "cell_type": "markdown",
      "metadata": {
        "id": "03xhr0PmDMVc"
      },
      "source": [
        "Create artm topic model fit it to the data. Try to change hyperparameters (number of specific and background topics) to better fit the dataset. Play with smoothing and sparsing coefficients (use grid), try to add decorrelator. Print out resulting topics."
      ]
    },
    {
      "cell_type": "code",
      "execution_count": null,
      "metadata": {
        "id": "tgv1qIUZDMVc"
      },
      "outputs": [],
      "source": []
    },
    {
      "cell_type": "markdown",
      "metadata": {
        "id": "mteOYV8TDMVd"
      },
      "source": [
        "Write a function to convert new documents to topics probabilities vectors."
      ]
    },
    {
      "cell_type": "code",
      "execution_count": null,
      "metadata": {
        "id": "IGkD9YaxDMVd"
      },
      "outputs": [],
      "source": []
    },
    {
      "cell_type": "markdown",
      "metadata": {
        "id": "SPrNOdMLDMVd"
      },
      "source": [
        "Calculate the quality scores for each model. Make a barplot to compare the quality."
      ]
    },
    {
      "cell_type": "code",
      "execution_count": null,
      "metadata": {
        "id": "hQadAQCXDMVd"
      },
      "outputs": [],
      "source": []
    }
  ],
  "metadata": {
    "colab": {
      "name": "Copy of HW1.ipynb",
      "provenance": []
    },
    "kernelspec": {
      "display_name": "Python 3",
      "language": "python",
      "name": "python3"
    },
    "language_info": {
      "codemirror_mode": {
        "name": "ipython",
        "version": 3
      },
      "file_extension": ".py",
      "mimetype": "text/x-python",
      "name": "python",
      "nbconvert_exporter": "python",
      "pygments_lexer": "ipython3",
      "version": "3.8.3"
    }
  },
  "nbformat": 4,
  "nbformat_minor": 0
}
